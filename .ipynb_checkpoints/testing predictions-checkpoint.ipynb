{
 "cells": [
  {
   "cell_type": "markdown",
   "id": "3967a18f",
   "metadata": {},
   "source": [
    "pybaseball github with install instructions: https://github.com/jldbc/pybaseball <br>\n",
    "Documentation for pybaseball library: https://github.com/jldbc/pybaseball/tree/master/docs <br>\n",
    "Statcast header meanings: https://baseballsavant.mlb.com/csv-docs"
   ]
  },
  {
   "cell_type": "markdown",
   "id": "8a61e5c6",
   "metadata": {},
   "source": [
    "plate_x\n",
    "Horizontal position of the ball when it crosses home plate from the catcher's perspective.\n",
    "\n",
    "plate_z\n",
    "Vertical position of the ball when it crosses home plate from the catcher's perspective."
   ]
  },
  {
   "cell_type": "code",
   "execution_count": 1,
   "id": "de42fc79",
   "metadata": {},
   "outputs": [],
   "source": [
    "import pybaseball\n",
    "import pandas as pd\n",
    "import numpy as np\n",
    "import matplotlib.pyplot as plt\n",
    "from collections import Counter\n",
    "from sklearn.naive_bayes import GaussianNB\n",
    "from sklearn.model_selection import train_test_split"
   ]
  },
  {
   "cell_type": "code",
   "execution_count": 2,
   "id": "18dbe50a",
   "metadata": {},
   "outputs": [],
   "source": [
    "def player(first_name, last_name):  \n",
    "    player_info = pybaseball.playerid_lookup(last_name, first_name)\n",
    "    if (player_info['mlb_played_last'][0] - player_info['mlb_played_first'][0]) < 10:\n",
    "        start_year = int(player_info['mlb_played_first'][0])\n",
    "    else:\n",
    "        start_year = int(player_info['mlb_played_last'][0] - 10)\n",
    "        \n",
    "    player_id = player_info['key_mlbam'][0]\n",
    "    player_info = [player_id,start_year,str(player_info['mlb_played_last'][0])]\n",
    "    \n",
    "    data = pybaseball.statcast_batter(start_dt = str(player_info[1]) + '-01-01', end_dt = '2021-12-01', player_id = player_info[0])\n",
    "    data = data.reset_index(drop = True)\n",
    "    return data"
   ]
  },
  {
   "cell_type": "code",
   "execution_count": 3,
   "id": "2ea30ba4",
   "metadata": {},
   "outputs": [
    {
     "name": "stdout",
     "output_type": "stream",
     "text": [
      "['brett', 'gardner']\n",
      "Gathering player lookup table. This may take a moment.\n",
      "Gathering Player Data\n"
     ]
    },
    {
     "name": "stderr",
     "output_type": "stream",
     "text": [
      "C:\\Users\\matth\\anaconda3\\lib\\site-packages\\pybaseball\\cache\\cache.py:58: DtypeWarning: Columns (87,88) have mixed types.Specify dtype option on import or set low_memory=False.\n",
      "  result = func(*args, **kwargs)\n"
     ]
    }
   ],
   "source": [
    "# home_team = ['brett gardner', 'clint frazier', 'aaron judge', 'matt holliday', 'didi gregorius',\n",
    "#              'chase headley', 'todd frazier', 'tyler wade', 'austin romine']\n",
    "home_team = ['brett gardner']\n",
    "for x in home_team:\n",
    "    name = x.split()\n",
    "    print(name)\n",
    "    athlete = player(name[0],name[1])"
   ]
  },
  {
   "cell_type": "markdown",
   "id": "1c79a7e0",
   "metadata": {},
   "source": [
    "Naive Bayes Predictor for each pitch of a match up."
   ]
  },
  {
   "cell_type": "code",
   "execution_count": 4,
   "id": "d60370fb",
   "metadata": {},
   "outputs": [],
   "source": [
    "def predict_pitch(athlete):\n",
    "    drop = ['pitch_type','game_date', 'spin_dir', 'spin_rate_deprecated', 'player_name', 'events', 'zone', 'des',\n",
    "       'game_type', 'stand',  'home_team', 'away_team', 'type',\n",
    "       'hit_location', 'bb_type',  'game_year', 'pfx_x',\n",
    "       'pfx_z', 'plate_x', 'plate_z',  'hc_x', 'hc_y',\n",
    "       'tfs_deprecated', 'tfs_zulu_deprecated', 'fielder_2', 'umpire', 'sv_id',\n",
    "       'vx0', 'vy0', 'vz0', 'ax', 'ay', 'az', 'sz_top', 'sz_bot',\n",
    "       'hit_distance_sc', 'launch_speed', 'launch_angle', 'effective_speed',\n",
    "       'release_spin_rate', 'release_extension', 'game_pk', 'pitcher.1',\n",
    "       'fielder_2.1', 'fielder_3', 'fielder_4', 'fielder_5', 'fielder_6',\n",
    "       'fielder_7', 'fielder_8', 'fielder_9', 'release_pos_y',\n",
    "       'estimated_ba_using_speedangle', 'estimated_woba_using_speedangle',\n",
    "       'woba_value', 'woba_denom', 'babip_value', 'iso_value',\n",
    "        'launch_speed_angle',  'pitch_name','release_pos_x', 'release_pos_z',\n",
    "        'bat_score', 'fld_score', 'post_away_score',\n",
    "        'post_home_score', 'post_bat_score', 'post_fld_score',\n",
    "        'break_angle_deprecated', 'break_length_deprecated','release_speed',\n",
    "        'spin_axis','delta_home_win_exp', 'delta_run_exp','at_bat_number', 'if_fielding_alignment', 'of_fielding_alignment']\n",
    "    \n",
    "    example = athlete.copy()\n",
    "    example = example.drop(columns = drop)\n",
    "    example = example.fillna(0)\n",
    "    example = example.reindex(index=example.index[::-1])\n",
    "    example = example.reset_index(drop=True)\n",
    "\n",
    "    test = example.copy()\n",
    "    test['on_1b'] = np.where(test['on_1b'] < 1, \"0\", \"1\")\n",
    "    test['on_2b'] = np.where(test['on_2b'] < 1, \"0\", \"1\")\n",
    "    test['on_3b'] = np.where(test['on_3b'] < 1, \"0\", \"1\")\n",
    "    test['inning_topbot'] = np.where(test['inning_topbot'] == 'Top', \"0\", \"1\")\n",
    "    test['p_throws'] = np.where(test['p_throws'] == 'R', \"0\", \"1\")\n",
    "    test_X = test.drop(columns = ['description'])\n",
    "    test_Y = test['description']\n",
    "\n",
    "    X_train, X_test, y_train, y_test = train_test_split(test_X, test_Y, test_size=0.5, random_state=0)\n",
    "    gnb = GaussianNB()\n",
    "    y_pred = gnb.fit(X_train, y_train).predict(X_test)\n",
    "    print(\"Number of mislabeled points out of a total %d points : %d\" % (X_test.shape[0], (y_test != y_pred).sum()))\n",
    "    print(\"Accuracy : %d\"  %(((X_test.shape[0] - (y_test != y_pred).sum()) / X_test.shape[0] )*100))"
   ]
  },
  {
   "cell_type": "code",
   "execution_count": 5,
   "id": "cfd3bd11",
   "metadata": {},
   "outputs": [
    {
     "name": "stdout",
     "output_type": "stream",
     "text": [
      "Number of mislabeled points out of a total 12344 points : 7811\n",
      "Accuracy : 36\n"
     ]
    }
   ],
   "source": [
    "predict_pitch(athlete)"
   ]
  },
  {
   "cell_type": "markdown",
   "id": "b3c1383c",
   "metadata": {},
   "source": [
    "Trying to just predict outcome of match up not what the outcome of each pitch will be."
   ]
  },
  {
   "cell_type": "code",
   "execution_count": 10,
   "id": "cd940ab1",
   "metadata": {},
   "outputs": [],
   "source": [
    "def predict_atbat(athlete, user = 'self'):\n",
    "    drop2 = ['pitch_type','game_date', 'spin_dir', 'balls', 'strikes',\n",
    "        'spin_rate_deprecated', 'player_name', 'zone', 'des',\n",
    "       'game_type', 'stand',  'home_team', 'away_team', 'type',\n",
    "        'game_year', 'pfx_x', 'description', 'bb_type', 'hit_location',\n",
    "       'pfx_z', 'plate_x', 'plate_z', 'hc_x', 'hc_y',\n",
    "        'fielder_2', 'umpire', 'sv_id','tfs_deprecated', 'tfs_zulu_deprecated',\n",
    "       'vx0', 'vy0', 'vz0', 'ax', 'ay', 'az', 'sz_top', 'sz_bot',\n",
    "       'hit_distance_sc', 'launch_speed', 'launch_angle', 'effective_speed',\n",
    "       'release_spin_rate', 'release_extension', 'game_pk', 'pitcher.1',\n",
    "       'fielder_2.1', 'fielder_3', 'fielder_4', 'fielder_5', 'fielder_6',\n",
    "       'fielder_7', 'fielder_8', 'fielder_9', 'release_pos_y',\n",
    "       'estimated_ba_using_speedangle', 'estimated_woba_using_speedangle',\n",
    "       'woba_value', 'woba_denom', 'babip_value', 'iso_value',\n",
    "        'launch_speed_angle',  'pitch_name','release_pos_x', 'release_pos_z',\n",
    "        'bat_score', 'fld_score', 'post_away_score','delta_home_win_exp', 'delta_run_exp',\n",
    "        'post_home_score', 'post_bat_score', 'post_fld_score',\n",
    "        'break_angle_deprecated', 'break_length_deprecated','release_speed',\n",
    "        'spin_axis','at_bat_number', 'if_fielding_alignment', 'of_fielding_alignment']\n",
    "\n",
    "    events_change = athlete.copy()\n",
    "    events_change = events_change.fillna(0)\n",
    "    outcomes = events_change.loc[events_change['events'] != 0]\n",
    "    outcomes = outcomes.reset_index(drop = True)\n",
    "    outcomes = outcomes.drop(columns = drop2)\n",
    "    outcomes['on_1b'] = np.where(outcomes['on_1b'] < 1, \"0\", \"1\")\n",
    "    outcomes['on_2b'] = np.where(outcomes['on_2b'] < 1, \"0\", \"1\")\n",
    "    outcomes['on_3b'] = np.where(outcomes['on_3b'] < 1, \"0\", \"1\")\n",
    "    outcomes['p_throws'] = np.where(outcomes['p_throws'] == 'R', \"0\", \"1\")\n",
    "    outcomes['inning_topbot'] = np.where(outcomes['inning_topbot'] == 'Top', \"0\", \"1\")\n",
    "\n",
    "    outcomes_X = outcomes.copy()\n",
    "    outcomes_X = outcomes_X.drop(columns = ['events'])\n",
    "    outcomes_Y = outcomes['events']\n",
    "\n",
    "    \n",
    "    gnb = GaussianNB()\n",
    "    X_train, X_test, y_train, y_test = train_test_split(outcomes_X, outcomes_Y, test_size=0.5, random_state=0)\n",
    "#     X_train = outcomes_X\n",
    "#     y_train = outcomes_Y\n",
    "#     X_test = user\n",
    "\n",
    "    y_pred = gnb.fit(X_train, y_train).predict(X_test)\n",
    "\n",
    "    print(\"Number of mislabeled points out of a total %d points : %d\" % (X_test.shape[0], (y_test != y_pred).sum()))\n",
    "    print(\"Accuracy : %d\"  %(((X_test.shape[0] - (y_test != y_pred).sum()) / X_test.shape[0] )*100))\n",
    "#     return y_pred"
   ]
  },
  {
   "cell_type": "code",
   "execution_count": 15,
   "id": "8b440a83",
   "metadata": {},
   "outputs": [
    {
     "name": "stdout",
     "output_type": "stream",
     "text": [
      "Number of mislabeled points out of a total 2897 points : 1739\n",
      "Accuracy : 39\n"
     ]
    }
   ],
   "source": [
    "predict_atbat(athlete,10)"
   ]
  },
  {
   "cell_type": "code",
   "execution_count": 8,
   "id": "e610320d",
   "metadata": {},
   "outputs": [],
   "source": [
    "# import random\n",
    "\n",
    "# results = []\n",
    "# for x in range(100):\n",
    "#     inning = random.randint(1,9)\n",
    "#     third_base = random.randint(0,1)\n",
    "#     second_base = random.randint(0,1)\n",
    "#     first_base = random.randint(0,1)\n",
    "#     outs = random.randint(0,2)\n",
    "#     home_score = random.randint(0,4)\n",
    "#     away_score = random.randint(0,4)\n",
    "#     pitch_num = random.randint(0,6)\n",
    "#     top = random.randint(0,1)\n",
    "\n",
    "#     #     ,'home_score':[home_score],'away_score':[away_score]\n",
    "\n",
    "#     data = {'batter' : ['458731'],'pitcher':['592332'], 'p_throws':['0'],\n",
    "#             'on_3b' :[third_base], 'on_2b':[second_base], 'on_1b':[first_base],\n",
    "#             'outs_when_up':[outs],'inning' :[inning], 'inning_topbot' : [top],\n",
    "#             'pitch_number':[pitch_num], 'home_score' : [home_score], 'away_score': [away_score]}\n",
    "\n",
    "#     user = pd.DataFrame(data)\n",
    "#     results.append(predict_atbat(athlete,user)[0])\n",
    "# print(Counter(results))"
   ]
  }
 ],
 "metadata": {
  "kernelspec": {
   "display_name": "Python 3 (ipykernel)",
   "language": "python",
   "name": "python3"
  },
  "language_info": {
   "codemirror_mode": {
    "name": "ipython",
    "version": 3
   },
   "file_extension": ".py",
   "mimetype": "text/x-python",
   "name": "python",
   "nbconvert_exporter": "python",
   "pygments_lexer": "ipython3",
   "version": "3.9.7"
  }
 },
 "nbformat": 4,
 "nbformat_minor": 5
}
