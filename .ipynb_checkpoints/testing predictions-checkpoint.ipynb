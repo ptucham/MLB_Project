{
 "cells": [
  {
   "cell_type": "markdown",
   "id": "3967a18f",
   "metadata": {},
   "source": [
    "pybaseball github with install instructions: https://github.com/jldbc/pybaseball <br>\n",
    "Documentation for pybaseball library: https://github.com/jldbc/pybaseball/tree/master/docs <br>\n",
    "Statcast header meanings: https://baseballsavant.mlb.com/csv-docs"
   ]
  },
  {
   "cell_type": "markdown",
   "id": "8a61e5c6",
   "metadata": {},
   "source": [
    "plate_x\n",
    "Horizontal position of the ball when it crosses home plate from the catcher's perspective.\n",
    "\n",
    "plate_z\n",
    "Vertical position of the ball when it crosses home plate from the catcher's perspective."
   ]
  },
  {
   "cell_type": "code",
   "execution_count": 1,
   "id": "de42fc79",
   "metadata": {},
   "outputs": [],
   "source": [
    "import pybaseball\n",
    "import pandas as pd\n",
    "import numpy as np\n",
    "import matplotlib.pyplot as plt\n",
    "from collections import Counter\n",
    "from sklearn.naive_bayes import GaussianNB\n",
    "from sklearn.model_selection import train_test_split"
   ]
  },
  {
   "cell_type": "code",
   "execution_count": 2,
   "id": "18dbe50a",
   "metadata": {},
   "outputs": [],
   "source": [
    "def player(first_name, last_name):  \n",
    "    player_info = pybaseball.playerid_lookup(last_name, first_name)\n",
    "    if (player_info['mlb_played_last'][0] - player_info['mlb_played_first'][0]) < 10:\n",
    "        start_year = int(player_info['mlb_played_first'][0])\n",
    "    else:\n",
    "        start_year = int(player_info['mlb_played_last'][0] - 10)\n",
    "        \n",
    "    player_id = player_info['key_mlbam'][0]\n",
    "    player_info = [player_id,start_year,str(player_info['mlb_played_last'][0])]\n",
    "    \n",
    "    data = pybaseball.statcast_batter(start_dt = str(player_info[1]) + '-01-01', end_dt = '2021-12-01', player_id = player_info[0])\n",
    "    data = data.reset_index(drop = True)\n",
    "    return data"
   ]
  },
  {
   "cell_type": "code",
   "execution_count": 3,
   "id": "2ea30ba4",
   "metadata": {},
   "outputs": [
    {
     "name": "stdout",
     "output_type": "stream",
     "text": [
      "['brett', 'gardner']\n",
      "Gathering player lookup table. This may take a moment.\n",
      "Gathering Player Data\n"
     ]
    },
    {
     "name": "stderr",
     "output_type": "stream",
     "text": [
      "C:\\Users\\matth\\anaconda3\\lib\\site-packages\\pybaseball\\cache\\cache.py:58: DtypeWarning: Columns (87,88) have mixed types.Specify dtype option on import or set low_memory=False.\n",
      "  result = func(*args, **kwargs)\n"
     ]
    }
   ],
   "source": [
    "# home_team = ['brett gardner', 'clint frazier', 'aaron judge', 'matt holliday', 'didi gregorius',\n",
    "#              'chase headley', 'todd frazier', 'tyler wade', 'austin romine']\n",
    "home_team = ['brett gardner']\n",
    "athlete = pd.DataFrame()\n",
    "for x in home_team:\n",
    "    name = x.split()\n",
    "    print(name)\n",
    "    athlete = athlete.append(player(name[0],name[1]))"
   ]
  },
  {
   "cell_type": "markdown",
   "id": "c54db2c3",
   "metadata": {},
   "source": [
    "Trying to just predict outcome of match up not what the outcome of each pitch will be."
   ]
  },
  {
   "cell_type": "code",
   "execution_count": 4,
   "id": "3cccc2c2",
   "metadata": {},
   "outputs": [],
   "source": [
    "def predict_atbat(athlete):\n",
    "    drop2 = ['batter','pitch_type','game_date', 'spin_dir', 'balls', 'strikes',\n",
    "        'spin_rate_deprecated', 'player_name', 'zone', 'des',\n",
    "       'game_type', 'stand',  'home_team', 'away_team', 'type',\n",
    "        'game_year', 'pfx_x', 'description', 'bb_type', 'hit_location',\n",
    "       'pfx_z', 'plate_x', 'plate_z', 'hc_x', 'hc_y',\n",
    "        'fielder_2', 'umpire', 'sv_id','tfs_deprecated', 'tfs_zulu_deprecated',\n",
    "       'vx0', 'vy0', 'vz0', 'ax', 'ay', 'az', 'sz_top', 'sz_bot',\n",
    "       'hit_distance_sc', 'launch_speed', 'launch_angle', 'effective_speed',\n",
    "       'release_spin_rate', 'release_extension', 'game_pk', 'pitcher.1',\n",
    "       'fielder_2.1', 'fielder_3', 'fielder_4', 'fielder_5', 'fielder_6',\n",
    "       'fielder_7', 'fielder_8', 'fielder_9', 'release_pos_y',\n",
    "       'estimated_ba_using_speedangle', 'estimated_woba_using_speedangle',\n",
    "       'woba_value', 'woba_denom', 'babip_value', 'iso_value',\n",
    "        'launch_speed_angle',  'pitch_name','release_pos_x', 'release_pos_z',\n",
    "        'bat_score', 'fld_score', 'post_away_score','delta_home_win_exp', 'delta_run_exp',\n",
    "        'post_home_score', 'post_bat_score', 'post_fld_score',\n",
    "        'break_angle_deprecated', 'break_length_deprecated','release_speed',\n",
    "        'spin_axis','at_bat_number', 'if_fielding_alignment', 'of_fielding_alignment']\n",
    "\n",
    "    events_change = athlete.copy()\n",
    "    events_change = events_change.fillna(0)\n",
    "    outcomes = events_change.loc[events_change['events'] != 0]\n",
    "    outcomes = outcomes.reset_index(drop = True)\n",
    "    outcomes = outcomes.drop(columns = drop2)\n",
    "    outcomes['on_1b'] = np.where(outcomes['on_1b'] < 1, \"0\", \"1\")\n",
    "    outcomes['on_2b'] = np.where(outcomes['on_2b'] < 1, \"0\", \"1\")\n",
    "    outcomes['on_3b'] = np.where(outcomes['on_3b'] < 1, \"0\", \"1\")\n",
    "    outcomes['p_throws'] = np.where(outcomes['p_throws'] == 'R', \"0\", \"1\")\n",
    "    outcomes['inning_topbot'] = np.where(outcomes['inning_topbot'] == 'Top', \"0\", \"1\")\n",
    "\n",
    "    events = Counter(outcomes['events'])\n",
    "    items = events.items()\n",
    "    total = len(outcomes['events'])\n",
    "    event_outcomes = list(Counter(outcomes['events']))\n",
    "    event_percentages = []\n",
    "\n",
    "    for i in items:\n",
    "        event_percentages.append((i[1]/total)*100)\n",
    "    for x in range(len(event_outcomes)):\n",
    "        outcomes[event_outcomes[x]] = event_percentages[x]\n",
    "        \n",
    "    \n",
    "    outcomes_X = outcomes.copy()\n",
    "    outcomes_X = outcomes_X.drop(columns = ['events'])\n",
    "    outcomes_Y = outcomes['events']\n",
    "\n",
    "    \n",
    "    gnb = GaussianNB()\n",
    "    X_train, X_test, y_train, y_test = train_test_split(outcomes_X, outcomes_Y, test_size=0.5, random_state=0)\n",
    "\n",
    "    y_pred = gnb.fit(X_train, y_train).predict(X_test)\n",
    "\n",
    "    print(\"Number of mislabeled points out of a total %d points : %d\" % (X_test.shape[0], (y_test != y_pred).sum()))\n",
    "    print(\"Accuracy : %d\"  %(((X_test.shape[0] - (y_test != y_pred).sum()) / X_test.shape[0] )*100))\n",
    "#     print(y_test)\n",
    "#     return Counter(y_pred)"
   ]
  },
  {
   "cell_type": "code",
   "execution_count": 5,
   "id": "f9d77041",
   "metadata": {
    "scrolled": false
   },
   "outputs": [
    {
     "name": "stdout",
     "output_type": "stream",
     "text": [
      "Number of mislabeled points out of a total 2897 points : 1731\n",
      "Accuracy : 40\n"
     ]
    }
   ],
   "source": [
    "predict_atbat(athlete)"
   ]
  },
  {
   "cell_type": "markdown",
   "id": "d8ae8532",
   "metadata": {},
   "source": [
    "Trying predctions through probabilities"
   ]
  },
  {
   "cell_type": "markdown",
   "id": "803661e2",
   "metadata": {},
   "source": [
    "Prob. Hit happens for Brett Gardner vs. David Price"
   ]
  },
  {
   "cell_type": "code",
   "execution_count": 6,
   "id": "552f2336",
   "metadata": {
    "scrolled": true
   },
   "outputs": [
    {
     "name": "stdout",
     "output_type": "stream",
     "text": [
      "Gathering Player Data\n"
     ]
    },
    {
     "name": "stderr",
     "output_type": "stream",
     "text": [
      "C:\\Users\\matth\\anaconda3\\lib\\site-packages\\pybaseball\\league_batting_stats.py:64: FutureWarning: In a future version of pandas all arguments of DataFrame.drop except for the argument 'labels' will be keyword-only\n",
      "  table = table.drop('', 1)\n"
     ]
    }
   ],
   "source": [
    "# Get and calculate the league batting avg. vs specific pitcher.\n",
    "# In this case David Price\n",
    "pitcher = pybaseball.statcast_pitcher(start_dt = '2018-01-01', end_dt = '2018-12-31', player_id = 456034)\n",
    "pitcher['events'] = pitcher['events'].fillna(0)\n",
    "pitcher = pitcher.loc[pitcher['events'] != 0]\n",
    "pitcher = pitcher.loc[pitcher['events'] != 'walk']\n",
    "pitcher = pitcher.loc[pitcher['events'] != 'hit_by_pitch']\n",
    "at_bats = Counter(pitcher['events'])\n",
    "at_bat_keys = at_bats.keys()\n",
    "hits = 0\n",
    "AB = 0\n",
    "for x in at_bat_keys:\n",
    "    if x == 'single' or x == 'double' or x == 'triple' or x == 'home_run':\n",
    "        hits+=at_bats[x]\n",
    "    AB+=at_bats[x]\n",
    "\n",
    "league_pitcher_BA = np.round(hits/AB,3)\n",
    "\n",
    "# Get league Batting Avg. for players who had at bats in a min. of a quarter of the season\n",
    "league_data = pybaseball.batting_stats_bref(2018)\n",
    "valid_players = league_data.loc[league_data['G'] >= 41]\n",
    "league_BA = np.mean(valid_players['BA'])\n",
    "\n",
    "# get specific player batting avg.\n",
    "# In this case Brett Gardner\n",
    "player = league_data.loc[league_data['Name'] == 'Brett Gardner']\n",
    "\n",
    "# Rounding the batting avg. to the standard accepted 3 decimal places\n",
    "player_BA = np.round(list(player['BA'])[0],3)\n",
    "league_BA = np.round(league_BA,3)"
   ]
  },
  {
   "cell_type": "markdown",
   "id": "408f8835",
   "metadata": {},
   "source": [
    "Calculate the prob. a hit happens"
   ]
  },
  {
   "cell_type": "code",
   "execution_count": 7,
   "id": "8a9c93a5",
   "metadata": {},
   "outputs": [
    {
     "data": {
      "text/plain": [
       "0.21463972773876708"
      ]
     },
     "execution_count": 7,
     "metadata": {},
     "output_type": "execute_result"
    }
   ],
   "source": [
    "((player_BA*league_pitcher_BA)/league_BA) / (((player_BA*league_pitcher_BA)/league_BA) + ((1-player_BA)*(1-league_pitcher_BA))/(1-league_BA))"
   ]
  },
  {
   "cell_type": "markdown",
   "id": "d0c492ca",
   "metadata": {},
   "source": [
    "Made it through equation #2 in: <br> https://sabr.org/journal/article/matchup-probabilities-in-major-league-baseball/"
   ]
  }
 ],
 "metadata": {
  "kernelspec": {
   "display_name": "Python 3 (ipykernel)",
   "language": "python",
   "name": "python3"
  },
  "language_info": {
   "codemirror_mode": {
    "name": "ipython",
    "version": 3
   },
   "file_extension": ".py",
   "mimetype": "text/x-python",
   "name": "python",
   "nbconvert_exporter": "python",
   "pygments_lexer": "ipython3",
   "version": "3.9.7"
  }
 },
 "nbformat": 4,
 "nbformat_minor": 5
}
