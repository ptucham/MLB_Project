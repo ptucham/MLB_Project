{
 "cells": [
  {
   "cell_type": "markdown",
   "id": "3967a18f",
   "metadata": {},
   "source": [
    "pybaseball github with install instructions: https://github.com/jldbc/pybaseball <br>\n",
    "Documentation for pybaseball library: https://github.com/jldbc/pybaseball/tree/master/docs <br>\n",
    "Statcast header meanings: https://baseballsavant.mlb.com/csv-docs"
   ]
  },
  {
   "cell_type": "markdown",
   "id": "8a61e5c6",
   "metadata": {},
   "source": [
    "plate_x\n",
    "Horizontal position of the ball when it crosses home plate from the catcher's perspective.\n",
    "\n",
    "plate_z\n",
    "Vertical position of the ball when it crosses home plate from the catcher's perspective."
   ]
  },
  {
   "cell_type": "code",
   "execution_count": 1,
   "id": "de42fc79",
   "metadata": {},
   "outputs": [],
   "source": [
    "import pybaseball\n",
    "import pandas as pd\n",
    "import numpy as np\n",
    "import random\n",
    "from collections import Counter"
   ]
  },
  {
   "cell_type": "code",
   "execution_count": 4,
   "id": "035247f5",
   "metadata": {},
   "outputs": [
    {
     "name": "stdout",
     "output_type": "stream",
     "text": [
      "Gathering Player Data\n"
     ]
    },
    {
     "data": {
      "text/plain": [
       "'home_run'"
      ]
     },
     "execution_count": 4,
     "metadata": {},
     "output_type": "execute_result"
    }
   ],
   "source": [
    "def atbat(firstname, lastname, outs):\n",
    "    batter_data = pybaseball.playerid_lookup('Judge', 'Aaron')\n",
    "    batter_id = batter_data['key_mlbam'][0]\n",
    "\n",
    "    # figure out all events that happen\n",
    "    batter_data = pybaseball.statcast_batter('2018-01-01', '2022-01-01', batter_id)\n",
    "    atbat_events = batter_data['events'].dropna()\n",
    "    count_events = Counter(atbat_events)\n",
    "    list_events = list(count_events)\n",
    "    prob = []\n",
    "    for x in count_events:\n",
    "        prob.append(count_events[x])\n",
    "    total_events = sum(prob)\n",
    "    total = 0\n",
    "    for x in range(len(prob)):\n",
    "        prob[x] = (prob[x]/total_events) + total\n",
    "        total = prob[x]\n",
    "\n",
    "    # What happens this atbat\n",
    "    atbat = random.random()\n",
    "    for x in prob:\n",
    "        if x > atbat:\n",
    "            event_index = prob.index(x)\n",
    "            break\n",
    "    if 'out' in list_events[event_index]:\n",
    "        outs+=1\n",
    "    else:\n",
    "        print(list_events[event_index])"
   ]
  },
  {
   "cell_type": "code",
   "execution_count": 5,
   "id": "8430019b",
   "metadata": {},
   "outputs": [
    {
     "name": "stdout",
     "output_type": "stream",
     "text": [
      "['DJ', 'LeMahieu']\n",
      "['Aaron', 'Judge']\n",
      "['Anthony', 'Rizzo']\n",
      "['Giancarlo', 'Stanton']\n",
      "['Josh', 'Donaldson']\n",
      "['Matt', 'Carpenter']\n",
      "['Isiah', 'Kiner-Falefa']\n",
      "['Jose', 'Trevino']\n",
      "['Joey', 'Gallo']\n"
     ]
    }
   ],
   "source": [
    "home_lineup = [\n",
    "'DJ LeMahieu',\n",
    "'Aaron Judge',\n",
    "'Anthony Rizzo',\n",
    "'Giancarlo Stanton',\n",
    "'Josh Donaldson',\n",
    "'Matt Carpenter',\n",
    "'Isiah Kiner-Falefa',\n",
    "'Jose Trevino',\n",
    "'Joey Gallo'\n",
    "]\n",
    "outs = 0\n",
    "for x in home_lineup:\n",
    "    batter = x.split()\n",
    "    if outs < 3:\n",
    "        atbat(batter[0],batter[1],outs)\n",
    "    else:\n",
    "        break"
   ]
  }
 ],
 "metadata": {
  "kernelspec": {
   "display_name": "Python 3 (ipykernel)",
   "language": "python",
   "name": "python3"
  },
  "language_info": {
   "codemirror_mode": {
    "name": "ipython",
    "version": 3
   },
   "file_extension": ".py",
   "mimetype": "text/x-python",
   "name": "python",
   "nbconvert_exporter": "python",
   "pygments_lexer": "ipython3",
   "version": "3.9.7"
  }
 },
 "nbformat": 4,
 "nbformat_minor": 5
}
