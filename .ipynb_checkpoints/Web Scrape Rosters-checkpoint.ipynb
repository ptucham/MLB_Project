{
 "cells": [
  {
   "cell_type": "code",
   "execution_count": 1,
   "id": "7237d663",
   "metadata": {},
   "outputs": [],
   "source": [
    "import requests\n",
    "from bs4 import BeautifulSoup\n",
    "from collections import Counter"
   ]
  },
  {
   "cell_type": "code",
   "execution_count": 2,
   "id": "3075b6ec",
   "metadata": {},
   "outputs": [],
   "source": [
    "def get_players(team):\n",
    "    response = requests.get(url='https://www.espn.com/mlb/team/depth/_/name/' + team,)\n",
    "    soup = BeautifulSoup(response.content, 'html.parser')\n",
    "    players = []\n",
    "    for tr in soup.find_all(\"tbody\", class_=\"Table__TBODY\"):\n",
    "        tds = tr.find_all('a')\n",
    "        for x in range ((len(tds))):\n",
    "            players.append(\"%s\" % \\\n",
    "                (tds[x].text))\n",
    "    return players"
   ]
  },
  {
   "cell_type": "code",
   "execution_count": 3,
   "id": "804bc50e",
   "metadata": {},
   "outputs": [],
   "source": [
    "def full_data(team):\n",
    "    response = requests.get(url='https://www.espn.com/mlb/team/depth/_/name/' + team,)\n",
    "    soup = BeautifulSoup(response.content, 'html.parser')\n",
    "    full_table = []\n",
    "    for tr in soup.find_all(\"tbody\", class_=\"Table__TBODY\"):\n",
    "        tds = tr.find_all('tr')\n",
    "        for x in range ((len(tds))):\n",
    "            full_table.append(\"%s\" % \\\n",
    "                (tds[x].text))\n",
    "    return full_table"
   ]
  },
  {
   "cell_type": "code",
   "execution_count": 4,
   "id": "4a872709",
   "metadata": {
    "scrolled": true
   },
   "outputs": [],
   "source": [
    "def position_list(complete_data):\n",
    "    positions = ''.join(x for x in complete_data[:12])\n",
    "    positions = positions.split(' ')\n",
    "    positions = [[x] for x in positions]\n",
    "    if positions[-1] == ['']:\n",
    "        positions.pop()\n",
    "    return positions"
   ]
  },
  {
   "cell_type": "code",
   "execution_count": 10,
   "id": "da230900",
   "metadata": {},
   "outputs": [],
   "source": [
    "def roster_breakdown(complete_data, players):\n",
    "    player_lists = complete_data[12:]\n",
    "    break_points = []\n",
    "    for x in range(len(player_lists)):\n",
    "        data = Counter(player_lists[x])\n",
    "        break_points.append(data['-'])\n",
    "    k = 0\n",
    "    old_position = 0\n",
    "    point = 0\n",
    "    depth_chart = []\n",
    "    for x in break_points:\n",
    "        point += 5-x\n",
    "        depth_chart.append(players[old_position:point])\n",
    "        old_position = point\n",
    "        k+=1\n",
    "    return depth_chart"
   ]
  },
  {
   "cell_type": "code",
   "execution_count": 7,
   "id": "bd20fd99",
   "metadata": {},
   "outputs": [],
   "source": [
    "teams = ['laa','hou','oak','tor','atl','mil','stl','chc','ari','lad','sf','cle',\n",
    "        'sea','mia','nym','wsh','bal','sd','phi','pit','tex','tb','bos','cin',\n",
    "        'col','kc','det','min','cws','nyy']\n",
    "\n",
    "active_players = []\n",
    "complete_team_charts = []\n",
    "\n",
    "for x in teams:\n",
    "    active_players.append(get_players(x))\n",
    "    complete_team_charts.append(full_data(x))"
   ]
  },
  {
   "cell_type": "code",
   "execution_count": 11,
   "id": "f4f6f3f0",
   "metadata": {},
   "outputs": [
    {
     "name": "stdout",
     "output_type": "stream",
     "text": [
      "[['P'], ['RP'], ['CL'], ['C'], ['1B'], ['2B'], ['3B'], ['SS'], ['LF'], ['CF'], ['RF'], ['DH']]\n",
      "[['Gerrit Cole', 'Jordan Montgomery', 'Luis Severino', 'Jameson Taillon', 'Nestor Cortes'], ['Jonathan Loaisiga', 'Chad Green', 'Wandy Peralta', 'Joely Rodriguez', 'Lucas Luetge'], ['Aroldis Chapman'], ['Gary Sanchez', 'Kyle Higashioka'], ['Luke Voit', 'DJ LeMahieu', 'Miguel Andujar', 'Joey Gallo'], ['Gleyber Torres', 'DJ LeMahieu', 'Jose Peraza'], ['DJ LeMahieu', 'Gio Urshela', 'Miguel Andujar', 'Jose Peraza'], ['Gio Urshela', 'Gleyber Torres', 'Jose Peraza', 'DJ LeMahieu'], ['Joey Gallo', 'Giancarlo Stanton', 'Miguel Andujar'], ['Aaron Hicks', 'Aaron Judge', 'Joey Gallo', 'Jose Peraza'], ['Aaron Judge', 'Giancarlo Stanton', 'Joey Gallo'], ['Giancarlo Stanton', 'Aaron Judge', 'Joey Gallo', 'Gary Sanchez', 'Gleyber Torres']]\n"
     ]
    }
   ],
   "source": [
    "print(position_list(complete_team_charts[-1]))\n",
    "print(roster_breakdown(complete_team_charts[-1], active_players[-1]))"
   ]
  }
 ],
 "metadata": {
  "kernelspec": {
   "display_name": "Python 3 (ipykernel)",
   "language": "python",
   "name": "python3"
  },
  "language_info": {
   "codemirror_mode": {
    "name": "ipython",
    "version": 3
   },
   "file_extension": ".py",
   "mimetype": "text/x-python",
   "name": "python",
   "nbconvert_exporter": "python",
   "pygments_lexer": "ipython3",
   "version": "3.9.7"
  }
 },
 "nbformat": 4,
 "nbformat_minor": 5
}
