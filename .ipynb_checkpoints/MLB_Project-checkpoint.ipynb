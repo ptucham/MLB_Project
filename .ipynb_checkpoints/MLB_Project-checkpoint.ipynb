{
 "cells": [
  {
   "cell_type": "code",
   "execution_count": 1,
   "metadata": {},
   "outputs": [],
   "source": [
    "import pandas as pd\n",
    "import numpy as np\n",
    "import matplotlib.pyplot as plt"
   ]
  },
  {
   "cell_type": "code",
   "execution_count": 2,
   "metadata": {},
   "outputs": [],
   "source": [
    "games19 = pd.read_csv(\"mlb_data/2019_games.csv\")\n",
    "atbats19 = pd.read_csv(\"mlb_data/2019_atbats.csv\")"
   ]
  },
  {
   "cell_type": "code",
   "execution_count": 3,
   "metadata": {},
   "outputs": [],
   "source": [
    "pitches19 = pd.read_csv(\"mlb_data/2019_pitches.csv\")\n",
    "players = pd.read_csv(\"mlb_data/player_names.csv\")"
   ]
  },
  {
   "cell_type": "code",
   "execution_count": 4,
   "metadata": {},
   "outputs": [],
   "source": [
    "cy_young_nl = pd.DataFrame()\n",
    "for x in range(len(players)):\n",
    "    if (players['last_name'][x] == 'deGrom') == True:\n",
    "        cy_young_nl = cy_young_nl.append(pd.DataFrame(players.loc[[x]]))\n",
    "cy_young_nl = cy_young_nl.reset_index(drop = True)"
   ]
  },
  {
   "cell_type": "code",
   "execution_count": 5,
   "metadata": {},
   "outputs": [],
   "source": [
    "# cy_young_nl.head()"
   ]
  },
  {
   "cell_type": "code",
   "execution_count": 6,
   "metadata": {},
   "outputs": [],
   "source": [
    "pitcher_at_bats = pd.DataFrame()\n",
    "for x in range(len(atbats19)):\n",
    "    if(atbats19['pitcher_id'][x] == cy_young_nl['id'][0]) == True:\n",
    "        pitcher_at_bats = pitcher_at_bats.append(pd.DataFrame(atbats19.loc[[x]]))\n",
    "pitcher_at_bats = pitcher_at_bats.reset_index(drop = True)"
   ]
  },
  {
   "cell_type": "code",
   "execution_count": 7,
   "metadata": {},
   "outputs": [],
   "source": [
    "# pitcher_at_bats.head()"
   ]
  },
  {
   "cell_type": "code",
   "execution_count": 8,
   "metadata": {},
   "outputs": [],
   "source": [
    "cy_young_nl_game_summary = pd.DataFrame()\n",
    "for k in range(len(pitcher_at_bats)):\n",
    "    for x in range(len(games19)):\n",
    "        if ( pitcher_at_bats['g_id'][k] == games19['g_id'][x]) == True:\n",
    "            cy_young_nl_game_summary = cy_young_nl_game_summary.append(pd.DataFrame(games19.loc[[x]]))\n",
    "cy_young_nl_game_summary = cy_young_nl_game_summary.drop_duplicates(subset=['g_id'])\n",
    "cy_young_nl_game_summary = cy_young_nl_game_summary.reset_index(drop = True)"
   ]
  },
  {
   "cell_type": "code",
   "execution_count": 9,
   "metadata": {},
   "outputs": [],
   "source": [
    "# len(cy_young_nl_game_summary)"
   ]
  },
  {
   "cell_type": "code",
   "execution_count": 10,
   "metadata": {},
   "outputs": [],
   "source": [
    "# cy_young_nl_game_summary.head()"
   ]
  },
  {
   "cell_type": "code",
   "execution_count": 11,
   "metadata": {},
   "outputs": [],
   "source": [
    "cy_young_nl_first_game = pd.DataFrame()\n",
    "for x in range(len(pitcher_at_bats)):\n",
    "    if (pitcher_at_bats['g_id'][x] == cy_young_nl_game_summary['g_id'][0]) == True:\n",
    "        cy_young_nl_first_game = cy_young_nl_first_game.append(pd.DataFrame(pitcher_at_bats.loc[[x]]))\n",
    "cy_young_nl_first_game = cy_young_nl_first_game.reset_index(drop = True)"
   ]
  },
  {
   "cell_type": "code",
   "execution_count": 12,
   "metadata": {
    "scrolled": true
   },
   "outputs": [],
   "source": [
    "# cy_young_nl_first_game"
   ]
  },
  {
   "cell_type": "code",
   "execution_count": 13,
   "metadata": {},
   "outputs": [],
   "source": [
    "at_bat_stats = pd.DataFrame()\n",
    "for k in range(len(cy_young_nl_first_game)):\n",
    "    for x in range(len(pitches19)):\n",
    "        if (cy_young_nl_first_game['ab_id'][k] == pitches19['ab_id'][x]) == True:\n",
    "            at_bat_stats = at_bat_stats.append(pd.DataFrame(pitches19.loc[[x]]))\n",
    "at_bat_stats = at_bat_stats.reset_index(drop = True)"
   ]
  },
  {
   "cell_type": "code",
   "execution_count": 14,
   "metadata": {
    "scrolled": true
   },
   "outputs": [],
   "source": [
    "# at_bat_stats"
   ]
  },
  {
   "cell_type": "code",
   "execution_count": 15,
   "metadata": {},
   "outputs": [
    {
     "data": {
      "image/png": "[encoded data removed]",
      "text/plain": [
       "<Figure size 432x288 with 1 Axes>"
      ]
     },
     "metadata": {},
     "output_type": "display_data"
    }
   ],
   "source": [
    "from matplotlib.patches import Rectangle\n",
    "plt.scatter(at_bat_stats['px'],at_bat_stats['pz'])\n",
    "currentAxis = plt.gca()\n",
    "currentAxis.add_patch(Rectangle((-0.6, 1.5), 1.25, 3, fill=None, alpha=1))\n",
    "plt.xlim(-2, 3)\n",
    "plt.ylim(0, 6)\n",
    "plt.title(\"Pitch Placement\")\n",
    "plt.show()"
   ]
  }
 ],
 "metadata": {
  "kernelspec": {
   "display_name": "Python 3",
   "language": "python",
   "name": "python3"
  },
  "language_info": {
   "codemirror_mode": {
    "name": "ipython",
    "version": 3
   },
   "file_extension": ".py",
   "mimetype": "text/x-python",
   "name": "python",
   "nbconvert_exporter": "python",
   "pygments_lexer": "ipython3",
   "version": "3.6.5"
  }
 },
 "nbformat": 4,
 "nbformat_minor": 2
}
