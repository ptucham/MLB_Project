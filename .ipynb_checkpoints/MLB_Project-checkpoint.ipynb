{
 "cells": [
  {
   "cell_type": "code",
   "execution_count": 1,
   "metadata": {},
   "outputs": [],
   "source": [
    "import pandas as pd\n",
    "import numpy as np\n",
    "import matplotlib.pyplot as plt\n",
    "from matplotlib.patches import Rectangle\n",
    "from collections import Counter"
   ]
  },
  {
   "cell_type": "code",
   "execution_count": 2,
   "metadata": {},
   "outputs": [],
   "source": [
    "games19 = pd.read_csv(\"mlb_data/2019_games.csv\")\n",
    "atbats19 = pd.read_csv(\"mlb_data/2019_atbats.csv\")\n",
    "pitches19 = pd.read_csv(\"mlb_data/2019_pitches.csv\")\n",
    "players = pd.read_csv(\"mlb_data/player_names.csv\")"
   ]
  },
  {
   "cell_type": "code",
   "execution_count": 3,
   "metadata": {},
   "outputs": [],
   "source": [
    "pitcher = pd.DataFrame()\n",
    "for x in range(len(players)):\n",
    "    if (players['last_name'][x] == 'deGrom') == True:\n",
    "        pitcher = pitcher.append(pd.DataFrame(players.loc[[x]]))\n",
    "pitcher = pitcher.reset_index(drop = True)"
   ]
  },
  {
   "cell_type": "code",
   "execution_count": 4,
   "metadata": {},
   "outputs": [],
   "source": [
    "pitcher_at_bats = pd.DataFrame()\n",
    "for x in range(len(atbats19)):\n",
    "    if(atbats19['pitcher_id'][x] == pitcher['id'][0]) == True:\n",
    "        pitcher_at_bats = pitcher_at_bats.append(pd.DataFrame(atbats19.loc[[x]]))\n",
    "pitcher_at_bats = pitcher_at_bats.reset_index(drop = True)"
   ]
  },
  {
   "cell_type": "code",
   "execution_count": 5,
   "metadata": {},
   "outputs": [],
   "source": [
    "pitcher_game_summary = pd.DataFrame()\n",
    "for k in range(len(pitcher_at_bats)):\n",
    "    for x in range(len(games19)):\n",
    "        if ( pitcher_at_bats['g_id'][k] == games19['g_id'][x]) == True:\n",
    "            pitcher_game_summary = pitcher_game_summary.append(pd.DataFrame(games19.loc[[x]]))\n",
    "pitcher_game_summary = pitcher_game_summary.drop_duplicates(subset=['g_id'])\n",
    "pitcher_game_summary = pitcher_game_summary.reset_index(drop = True)"
   ]
  },
  {
   "cell_type": "code",
   "execution_count": 7,
   "metadata": {},
   "outputs": [],
   "source": [
    "pitcher_game = pd.DataFrame()\n",
    "for k in range(len(pitcher_game_summary)):\n",
    "    for x in range(len(pitcher_at_bats)):\n",
    "        if (pitcher_at_bats['g_id'][x] == pitcher_game_summary['g_id'][k]) == True:\n",
    "            pitcher_game = pitcher_game.append(pd.DataFrame(pitcher_at_bats.loc[[x]]))\n",
    "pitcher_game = pitcher_game.reset_index(drop = True)"
   ]
  },
  {
   "cell_type": "code",
   "execution_count": 8,
   "metadata": {
    "scrolled": true
   },
   "outputs": [
    {
     "data": {
      "text/plain": [
       "807"
      ]
     },
     "execution_count": 8,
     "metadata": {},
     "output_type": "execute_result"
    }
   ],
   "source": [
    "i = 0\n",
    "for k in range(len(pitcher_game_summary)):\n",
    "    for x in range(len(pitcher_game)):\n",
    "        if (pitcher_game['g_id'][x] == pitcher_game_summary['g_id'][k]) == True:\n",
    "            i+=1\n",
    "i"
   ]
  },
  {
   "cell_type": "code",
   "execution_count": 12,
   "metadata": {},
   "outputs": [
    {
     "name": "stdout",
     "output_type": "stream",
     "text": [
      "--- 0.0993044376373291 seconds ---\n",
      "--- 0.19615411758422852 seconds ---\n",
      "--- 0.29192328453063965 seconds ---\n",
      "--- 0.39165520668029785 seconds ---\n",
      "--- 0.4934349060058594 seconds ---\n",
      "--- 0.5912189483642578 seconds ---\n",
      "--- 0.6950716972351074 seconds ---\n",
      "--- 0.7948315143585205 seconds ---\n",
      "--- 0.8985278606414795 seconds ---\n",
      "--- 0.9982874393463135 seconds ---\n",
      "--- 1.0970232486724854 seconds ---\n",
      "--- 1.1957652568817139 seconds ---\n",
      "--- 1.2985169887542725 seconds ---\n",
      "--- 1.3952515125274658 seconds ---\n",
      "--- 1.4880023002624512 seconds ---\n",
      "--- 1.579756736755371 seconds ---\n",
      "--- 1.6784939765930176 seconds ---\n",
      "--- 1.776233196258545 seconds ---\n",
      "--- 1.87296462059021 seconds ---\n",
      "--- 1.9726979732513428 seconds ---\n",
      "--- 2.074418783187866 seconds ---\n",
      "--- 2.1741530895233154 seconds ---\n",
      "--- 2.2739012241363525 seconds ---\n",
      "--- 3.0713346004486084 seconds ---\n",
      "--- 3.8621861934661865 seconds ---\n",
      "--- 4.683044910430908 seconds ---\n",
      "--- 5.4904420375823975 seconds ---\n",
      "--- 6.300967454910278 seconds ---\n",
      "--- 7.094965696334839 seconds ---\n",
      "--- 7.893221855163574 seconds ---\n",
      "--- 8.69455361366272 seconds ---\n",
      "--- 9.479837656021118 seconds ---\n",
      "--- 10.256983995437622 seconds ---\n",
      "--- 11.059171915054321 seconds ---\n",
      "--- 11.861016035079956 seconds ---\n",
      "--- 12.6604905128479 seconds ---\n",
      "--- 13.4595627784729 seconds ---\n",
      "--- 14.26357102394104 seconds ---\n",
      "--- 15.070893287658691 seconds ---\n",
      "--- 15.873003721237183 seconds ---\n",
      "--- 16.648409605026245 seconds ---\n",
      "--- 17.440431118011475 seconds ---\n",
      "--- 18.246463298797607 seconds ---\n",
      "--- 19.041581630706787 seconds ---\n",
      "--- 19.829472303390503 seconds ---\n",
      "--- 20.6395161151886 seconds ---\n",
      "--- 21.449350595474243 seconds ---\n",
      "--- 22.238282680511475 seconds ---\n",
      "--- 23.698938369750977 seconds ---\n",
      "--- 25.110379934310913 seconds ---\n",
      "--- 26.565215587615967 seconds ---\n",
      "--- 27.997337341308594 seconds ---\n",
      "--- 29.40980339050293 seconds ---\n",
      "--- 30.871185064315796 seconds ---\n",
      "--- 32.313334941864014 seconds ---\n",
      "--- 33.77162146568298 seconds ---\n",
      "--- 35.239357709884644 seconds ---\n",
      "--- 36.68507122993469 seconds ---\n",
      "--- 38.17475175857544 seconds ---\n",
      "--- 39.6571159362793 seconds ---\n"
     ]
    },
    {
     "ename": "KeyboardInterrupt",
     "evalue": "",
     "output_type": "error",
     "traceback": [
      "\u001b[1;31m---------------------------------------------------------------------------\u001b[0m",
      "\u001b[1;31mKeyboardInterrupt\u001b[0m                         Traceback (most recent call last)",
      "\u001b[1;32m<ipython-input-12-7a2f3e96619c>\u001b[0m in \u001b[0;36m<module>\u001b[1;34m()\u001b[0m\n\u001b[0;32m      5\u001b[0m \u001b[1;32mfor\u001b[0m \u001b[0mk\u001b[0m \u001b[1;32min\u001b[0m \u001b[0mrange\u001b[0m\u001b[1;33m(\u001b[0m\u001b[0mlen\u001b[0m\u001b[1;33m(\u001b[0m\u001b[0mpitcher_game\u001b[0m\u001b[1;33m)\u001b[0m\u001b[1;33m)\u001b[0m\u001b[1;33m:\u001b[0m\u001b[1;33m\u001b[0m\u001b[0m\n\u001b[0;32m      6\u001b[0m     \u001b[1;32mfor\u001b[0m \u001b[0mx\u001b[0m \u001b[1;32min\u001b[0m \u001b[0mrange\u001b[0m\u001b[1;33m(\u001b[0m\u001b[0mlen\u001b[0m\u001b[1;33m(\u001b[0m\u001b[0mpitches19\u001b[0m\u001b[1;33m)\u001b[0m\u001b[1;33m)\u001b[0m\u001b[1;33m:\u001b[0m\u001b[1;33m\u001b[0m\u001b[0m\n\u001b[1;32m----> 7\u001b[1;33m         \u001b[1;32mif\u001b[0m \u001b[1;33m(\u001b[0m\u001b[0mpitches19\u001b[0m\u001b[1;33m[\u001b[0m\u001b[1;34m'ab_id'\u001b[0m\u001b[1;33m]\u001b[0m\u001b[1;33m[\u001b[0m\u001b[0mx\u001b[0m\u001b[1;33m]\u001b[0m \u001b[1;33m>\u001b[0m \u001b[0mpitcher_game\u001b[0m\u001b[1;33m[\u001b[0m\u001b[1;34m'ab_id'\u001b[0m\u001b[1;33m]\u001b[0m\u001b[1;33m[\u001b[0m\u001b[0mk\u001b[0m\u001b[1;33m]\u001b[0m\u001b[1;33m)\u001b[0m\u001b[1;33m:\u001b[0m\u001b[1;33m\u001b[0m\u001b[0m\n\u001b[0m\u001b[0;32m      8\u001b[0m             \u001b[1;32mbreak\u001b[0m\u001b[1;33m\u001b[0m\u001b[0m\n\u001b[0;32m      9\u001b[0m         \u001b[1;32mif\u001b[0m \u001b[1;33m(\u001b[0m\u001b[0mpitcher_game\u001b[0m\u001b[1;33m[\u001b[0m\u001b[1;34m'ab_id'\u001b[0m\u001b[1;33m]\u001b[0m\u001b[1;33m[\u001b[0m\u001b[0mk\u001b[0m\u001b[1;33m]\u001b[0m \u001b[1;33m==\u001b[0m \u001b[0mpitches19\u001b[0m\u001b[1;33m[\u001b[0m\u001b[1;34m'ab_id'\u001b[0m\u001b[1;33m]\u001b[0m\u001b[1;33m[\u001b[0m\u001b[0mx\u001b[0m\u001b[1;33m]\u001b[0m\u001b[1;33m)\u001b[0m \u001b[1;33m==\u001b[0m \u001b[1;32mTrue\u001b[0m\u001b[1;33m:\u001b[0m\u001b[1;33m\u001b[0m\u001b[0m\n",
      "\u001b[1;32mC:\\ProgramData\\Anaconda3\\lib\\site-packages\\pandas\\core\\series.py\u001b[0m in \u001b[0;36m__getitem__\u001b[1;34m(self, key)\u001b[0m\n\u001b[0;32m    764\u001b[0m         \u001b[0mkey\u001b[0m \u001b[1;33m=\u001b[0m \u001b[0mcom\u001b[0m\u001b[1;33m.\u001b[0m\u001b[0m_apply_if_callable\u001b[0m\u001b[1;33m(\u001b[0m\u001b[0mkey\u001b[0m\u001b[1;33m,\u001b[0m \u001b[0mself\u001b[0m\u001b[1;33m)\u001b[0m\u001b[1;33m\u001b[0m\u001b[0m\n\u001b[0;32m    765\u001b[0m         \u001b[1;32mtry\u001b[0m\u001b[1;33m:\u001b[0m\u001b[1;33m\u001b[0m\u001b[0m\n\u001b[1;32m--> 766\u001b[1;33m             \u001b[0mresult\u001b[0m \u001b[1;33m=\u001b[0m \u001b[0mself\u001b[0m\u001b[1;33m.\u001b[0m\u001b[0mindex\u001b[0m\u001b[1;33m.\u001b[0m\u001b[0mget_value\u001b[0m\u001b[1;33m(\u001b[0m\u001b[0mself\u001b[0m\u001b[1;33m,\u001b[0m \u001b[0mkey\u001b[0m\u001b[1;33m)\u001b[0m\u001b[1;33m\u001b[0m\u001b[0m\n\u001b[0m\u001b[0;32m    767\u001b[0m \u001b[1;33m\u001b[0m\u001b[0m\n\u001b[0;32m    768\u001b[0m             \u001b[1;32mif\u001b[0m \u001b[1;32mnot\u001b[0m \u001b[0mis_scalar\u001b[0m\u001b[1;33m(\u001b[0m\u001b[0mresult\u001b[0m\u001b[1;33m)\u001b[0m\u001b[1;33m:\u001b[0m\u001b[1;33m\u001b[0m\u001b[0m\n",
      "\u001b[1;32mC:\\ProgramData\\Anaconda3\\lib\\site-packages\\pandas\\core\\indexes\\base.py\u001b[0m in \u001b[0;36mget_value\u001b[1;34m(self, series, key)\u001b[0m\n\u001b[0;32m   3101\u001b[0m         \u001b[1;32mtry\u001b[0m\u001b[1;33m:\u001b[0m\u001b[1;33m\u001b[0m\u001b[0m\n\u001b[0;32m   3102\u001b[0m             return self._engine.get_value(s, k,\n\u001b[1;32m-> 3103\u001b[1;33m                                           tz=getattr(series.dtype, 'tz', None))\n\u001b[0m\u001b[0;32m   3104\u001b[0m         \u001b[1;32mexcept\u001b[0m \u001b[0mKeyError\u001b[0m \u001b[1;32mas\u001b[0m \u001b[0me1\u001b[0m\u001b[1;33m:\u001b[0m\u001b[1;33m\u001b[0m\u001b[0m\n\u001b[0;32m   3105\u001b[0m             \u001b[1;32mif\u001b[0m \u001b[0mlen\u001b[0m\u001b[1;33m(\u001b[0m\u001b[0mself\u001b[0m\u001b[1;33m)\u001b[0m \u001b[1;33m>\u001b[0m \u001b[1;36m0\u001b[0m \u001b[1;32mand\u001b[0m \u001b[0mself\u001b[0m\u001b[1;33m.\u001b[0m\u001b[0minferred_type\u001b[0m \u001b[1;32min\u001b[0m \u001b[1;33m[\u001b[0m\u001b[1;34m'integer'\u001b[0m\u001b[1;33m,\u001b[0m \u001b[1;34m'boolean'\u001b[0m\u001b[1;33m]\u001b[0m\u001b[1;33m:\u001b[0m\u001b[1;33m\u001b[0m\u001b[0m\n",
      "\u001b[1;32mC:\\ProgramData\\Anaconda3\\lib\\site-packages\\pandas\\core\\series.py\u001b[0m in \u001b[0;36mdtype\u001b[1;34m(self)\u001b[0m\n\u001b[0;32m    412\u001b[0m     \u001b[1;32mdef\u001b[0m \u001b[0mdtype\u001b[0m\u001b[1;33m(\u001b[0m\u001b[0mself\u001b[0m\u001b[1;33m)\u001b[0m\u001b[1;33m:\u001b[0m\u001b[1;33m\u001b[0m\u001b[0m\n\u001b[0;32m    413\u001b[0m         \u001b[1;34m\"\"\" return the dtype object of the underlying data \"\"\"\u001b[0m\u001b[1;33m\u001b[0m\u001b[0m\n\u001b[1;32m--> 414\u001b[1;33m         \u001b[1;32mreturn\u001b[0m \u001b[0mself\u001b[0m\u001b[1;33m.\u001b[0m\u001b[0m_data\u001b[0m\u001b[1;33m.\u001b[0m\u001b[0mdtype\u001b[0m\u001b[1;33m\u001b[0m\u001b[0m\n\u001b[0m\u001b[0;32m    415\u001b[0m \u001b[1;33m\u001b[0m\u001b[0m\n\u001b[0;32m    416\u001b[0m     \u001b[1;33m@\u001b[0m\u001b[0mproperty\u001b[0m\u001b[1;33m\u001b[0m\u001b[0m\n",
      "\u001b[1;32mC:\\ProgramData\\Anaconda3\\lib\\site-packages\\pandas\\core\\internals.py\u001b[0m in \u001b[0;36mdtype\u001b[1;34m(self)\u001b[0m\n\u001b[0;32m   4716\u001b[0m         \u001b[1;32mreturn\u001b[0m \u001b[0mself\u001b[0m\u001b[1;33m.\u001b[0m\u001b[0mapply\u001b[0m\u001b[1;33m(\u001b[0m\u001b[1;34m'convert'\u001b[0m\u001b[1;33m,\u001b[0m \u001b[1;33m**\u001b[0m\u001b[0mkwargs\u001b[0m\u001b[1;33m)\u001b[0m\u001b[1;33m\u001b[0m\u001b[0m\n\u001b[0;32m   4717\u001b[0m \u001b[1;33m\u001b[0m\u001b[0m\n\u001b[1;32m-> 4718\u001b[1;33m     \u001b[1;33m@\u001b[0m\u001b[0mproperty\u001b[0m\u001b[1;33m\u001b[0m\u001b[0m\n\u001b[0m\u001b[0;32m   4719\u001b[0m     \u001b[1;32mdef\u001b[0m \u001b[0mdtype\u001b[0m\u001b[1;33m(\u001b[0m\u001b[0mself\u001b[0m\u001b[1;33m)\u001b[0m\u001b[1;33m:\u001b[0m\u001b[1;33m\u001b[0m\u001b[0m\n\u001b[0;32m   4720\u001b[0m         \u001b[1;32mreturn\u001b[0m \u001b[0mself\u001b[0m\u001b[1;33m.\u001b[0m\u001b[0m_block\u001b[0m\u001b[1;33m.\u001b[0m\u001b[0mdtype\u001b[0m\u001b[1;33m\u001b[0m\u001b[0m\n",
      "\u001b[1;31mKeyboardInterrupt\u001b[0m: "
     ]
    }
   ],
   "source": [
    "import time\n",
    "start_time = time.time()\n",
    "data = 1\n",
    "at_bat_stats = pd.DataFrame()\n",
    "pitches_mod = pitches19\n",
    "for k in range(len(pitcher_game)):\n",
    "    for x in range(len(pitches_mod)):\n",
    "        if (pitches_mod['ab_id'][x] > pitcher_game['ab_id'][k]):\n",
    "            break\n",
    "        if (pitcher_game['ab_id'][k] == pitches19['ab_id'][x]) == True:\n",
    "            data+=1\n",
    "    pitches_mod = pithces_mod.loc[x]\n",
    "    print(\"--- %s seconds ---\" % (time.time() - start_time))\n",
    "#             data.append([k,x])\n",
    "#             at_bat_stats = at_bat_stats.append(pd.DataFrame(pitches19.loc[[x]]))\n",
    "# at_bat_stats = at_bat_stats.reset_index(drop = True)\n",
    "print(data)\n",
    "print(\"--- %s seconds ---\" % (time.time() - start_time))"
   ]
  },
  {
   "cell_type": "code",
   "execution_count": null,
   "metadata": {},
   "outputs": [],
   "source": [
    "total_pitches = Counter(at_bat_stats['pitch_type']).most_common()\n",
    "\n",
    "total_pitches"
   ]
  },
  {
   "cell_type": "code",
   "execution_count": null,
   "metadata": {},
   "outputs": [],
   "source": [
    "pitch_type = []*len(total_pitches)\n",
    "for x in range(len(total_pitches)):\n",
    "    pitch_type.append([total_pitches[x][0]])\n",
    "# pitch_type"
   ]
  },
  {
   "cell_type": "code",
   "execution_count": null,
   "metadata": {},
   "outputs": [],
   "source": [
    "for x in range(len(total_pitches)):\n",
    "    for k in range(len(at_bat_stats)):\n",
    "        location = []\n",
    "        if (at_bat_stats['pitch_type'][k] == total_pitches[x][0]) == True:\n",
    "            location.append(at_bat_stats['px'][k])\n",
    "            location.append(at_bat_stats['pz'][k])\n",
    "            pitch_type[x].append(location)\n",
    "# pitch_type   "
   ]
  },
  {
   "cell_type": "code",
   "execution_count": null,
   "metadata": {},
   "outputs": [],
   "source": [
    "colors = ['blue', 'red', 'green', 'orange', 'purple']\n",
    "for x in range(len(pitch_type)):\n",
    "    test = pitch_type[x][:]\n",
    "    test.pop([0][0])\n",
    "    xs = [test[x][0] for x in range(len(test))]\n",
    "    ys = [test[x][1] for x in range(len(test))]\n",
    "    plt.scatter(xs,ys, c = colors[x])\n",
    "    currentAxis = plt.gca()\n",
    "    currentAxis.add_patch(Rectangle((-0.8, 1.59), 1.6, 2.15, fill=None, alpha=1)) # Strike Zone\n",
    "    plt.xlim(-2, 2.5)\n",
    "    plt.ylim(0, 5)\n",
    "    plt.title(pitch_type[x][0])\n",
    "    plt.show()"
   ]
  },
  {
   "cell_type": "markdown",
   "metadata": {},
   "source": [
    "Strike Zone size is about 20in wide 26in tall. about 18.25in off the ground and the top is around 44in off the ground."
   ]
  },
  {
   "cell_type": "code",
   "execution_count": null,
   "metadata": {},
   "outputs": [],
   "source": [
    "def strikezone_map(player_atbats):\n",
    "    plt.scatter(player_atbats['px'],player_atbats['pz'])\n",
    "    currentAxis = plt.gca()\n",
    "    currentAxis.add_patch(Rectangle((-0.8, 1.59), 1.6, 2.15, fill=None, alpha=1)) # Strike Zone\n",
    "    # plt.xlim(-2, 2.5)\n",
    "    # plt.ylim(0, 5)\n",
    "    plt.title(\"Pitch Placement\")\n",
    "    plt.show()\n",
    "\n",
    "strikezone_map(at_bat_stats)"
   ]
  }
 ],
 "metadata": {
  "kernelspec": {
   "display_name": "Python 3",
   "language": "python",
   "name": "python3"
  },
  "language_info": {
   "codemirror_mode": {
    "name": "ipython",
    "version": 3
   },
   "file_extension": ".py",
   "mimetype": "text/x-python",
   "name": "python",
   "nbconvert_exporter": "python",
   "pygments_lexer": "ipython3",
   "version": "3.6.5"
  }
 },
 "nbformat": 4,
 "nbformat_minor": 2
}
