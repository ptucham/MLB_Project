{
 "cells": [
  {
   "cell_type": "markdown",
   "id": "3967a18f",
   "metadata": {},
   "source": [
    "pybaseball github with install instructions: https://github.com/jldbc/pybaseball <br>\n",
    "Documentation for pybaseball library: https://github.com/jldbc/pybaseball/tree/master/docs"
   ]
  },
  {
   "cell_type": "code",
   "execution_count": 1,
   "id": "de42fc79",
   "metadata": {},
   "outputs": [],
   "source": [
    "import pybaseball\n",
    "import pandas as pd\n",
    "from collections import Counter"
   ]
  },
  {
   "cell_type": "code",
   "execution_count": 2,
   "id": "18dbe50a",
   "metadata": {},
   "outputs": [],
   "source": [
    "def pitcher(last_name, first_name):\n",
    "    pitcher = pybaseball.playerid_lookup(last_name, first_name)\n",
    "    return pitcher"
   ]
  },
  {
   "cell_type": "code",
   "execution_count": 3,
   "id": "035247f5",
   "metadata": {},
   "outputs": [],
   "source": [
    "def games_pitched_in_timeframe(first_name, last_name, start_date, end_date):\n",
    "    l_name = last_name\n",
    "    f_name = first_name\n",
    "    pitcher_data = pitcher(l_name, f_name)\n",
    "    pitcher_id = str(pitcher_data['key_mlbam'][0])\n",
    "    pitching_data = pybaseball.statcast_pitcher(start_date, end_date, pitcher_id)\n",
    "    return list(Counter(pitching_data['game_date']))"
   ]
  },
  {
   "cell_type": "code",
   "execution_count": 4,
   "id": "9fd2b6b2",
   "metadata": {
    "scrolled": true
   },
   "outputs": [],
   "source": [
    "def pitcher_game_number(date, team):\n",
    "    months = {'Jan' : '01', 'Feb' : '02', 'Mar' : '03', 'Apr' : '04', 'May' : '05', 'Jun' : '06',\n",
    "          'Jul' : '07', 'Aug': '08', 'Sep' : '09', 'Oct' : '10', 'Nov' : '11', 'Dec' : '12'}\n",
    "    \n",
    "    game_date = date.split('-')\n",
    "    year = game_date[0]\n",
    "    game_date = game_date[1:]\n",
    "    game_date = '-'.join(game_date)\n",
    "    \n",
    "    pitching_logs = pybaseball.team_game_logs(year, team, \"pitching\")\n",
    "    test = list(pitching_logs['Date'])\n",
    "    test = [i.split() for i in test]\n",
    "    x = 0\n",
    "    for ind in test:\n",
    "        ind[0] = months.get(ind[0])\n",
    "        new_string = '-'.join(ind)\n",
    "        test[x] = new_string\n",
    "        x+=1\n",
    "    pitching_logs['Date'] = test\n",
    "    game = pitching_logs.loc[pitching_logs['Date'] == game_date].reset_index()\n",
    "    data = pybaseball.statcast(date, date)\n",
    "    if game['Home'][0] == True:\n",
    "        test = data.loc[data['away_team'] == 'LAD']\n",
    "        game_pk = list(test['game_pk'])\n",
    "        return game_pk[0]\n",
    "    else:\n",
    "        test = data.loc[data['home_team'] == 'LAD']\n",
    "        game_pk = list(test['game_pk'])\n",
    "        return game_pk[0]"
   ]
  },
  {
   "cell_type": "code",
   "execution_count": 5,
   "id": "94bdca0f",
   "metadata": {},
   "outputs": [],
   "source": [
    "def pitcher_game_complete_data(game_id, pitcher_id):\n",
    "    data = pybaseball.statcast_single_game(game_id).reset_index(drop = True)\n",
    "    pitcher_data = pd.DataFrame()\n",
    "    for x in range(len(data)):\n",
    "        if data['pitcher'][x] == pitcher_id:\n",
    "            pitcher_data = pitcher_data.append(data.iloc[[x]])\n",
    "    pitcher_data = pitcher_data.reset_index(drop = True)\n",
    "    return pitcher_data"
   ]
  },
  {
   "cell_type": "code",
   "execution_count": 6,
   "id": "5263b9a2",
   "metadata": {},
   "outputs": [],
   "source": [
    "def pitch_summary(game_data):\n",
    "    data = Counter(game_data['pitch_type'])\n",
    "    return data"
   ]
  },
  {
   "cell_type": "code",
   "execution_count": 45,
   "id": "b975e088",
   "metadata": {},
   "outputs": [],
   "source": [
    "def ball_and_strike(game_data):\n",
    "    balls = pd.DataFrame()\n",
    "    strikes = []\n",
    "    k = 0\n",
    "    for x in range(len(game_data)):\n",
    "        if game_data['description'][x] == 'ball':\n",
    "            balls.append(game_data['description'].iloc[[x]])\n",
    "        elif game_data['description'][x] == 'blocked_ball':\n",
    "            k+=1\n",
    "        else:\n",
    "            strikes.append(game_data[['pitch_type','description']].iloc[[x]])\n",
    "#     print(strikes[0])\n",
    "#     print(balls)\n",
    "    data = Counter(game_data['description'])\n",
    "    \n",
    "    return balls"
   ]
  },
  {
   "cell_type": "code",
   "execution_count": 46,
   "id": "a7369f91",
   "metadata": {},
   "outputs": [],
   "source": [
    "def main(first_name, last_name, start_date, end_date, team):\n",
    "    year = start_date.split('-')\n",
    "    year = int(start_date[0])\n",
    "    \n",
    "    desired_pitcher = pitcher(last_name, first_name)\n",
    "    desired_pitcher_id = desired_pitcher['key_mlbam'][0]\n",
    "    \n",
    "    games = games_pitched_in_timeframe(first_name, last_name, start_date, end_date)\n",
    "    print(games)\n",
    "    \n",
    "    game_id = pitcher_game_number(games[0], team)\n",
    "    game_pitch_data = pitcher_game_complete_data(game_id, desired_pitcher_id)\n",
    "    print(pitch_summary(game_pitch_data))\n",
    "    print(ball_and_strike(game_pitch_data))\n",
    "#     return game_pitch_data"
   ]
  },
  {
   "cell_type": "code",
   "execution_count": 47,
   "id": "6f86f60f",
   "metadata": {},
   "outputs": [
    {
     "name": "stdout",
     "output_type": "stream",
     "text": [
      "Gathering Player Data\n",
      "['2017-06-29']\n",
      "This is a large query, it may take a moment to complete\n"
     ]
    },
    {
     "name": "stderr",
     "output_type": "stream",
     "text": [
      "100%|████████████████████████████████████████████████████████████████████████████████████| 1/1 [00:02<00:00,  2.06s/it]\n"
     ]
    },
    {
     "name": "stdout",
     "output_type": "stream",
     "text": [
      "Counter({'FF': 38, 'SL': 31, 'CU': 23, 'CH': 1})\n",
      "Counter({'ball': 21, 'foul': 18, 'called_strike': 17, 'swinging_strike': 13, 'hit_into_play': 12, 'swinging_strike_blocked': 5, 'blocked_ball': 5, 'foul_tip': 2})\n",
      "  pitch_type              description\n",
      "0         SL  swinging_strike_blocked\n"
     ]
    }
   ],
   "source": [
    "main('clayton','kershaw','2017-06-29','2017-06-29', 'LAD')"
   ]
  }
 ],
 "metadata": {
  "kernelspec": {
   "display_name": "Python 3 (ipykernel)",
   "language": "python",
   "name": "python3"
  },
  "language_info": {
   "codemirror_mode": {
    "name": "ipython",
    "version": 3
   },
   "file_extension": ".py",
   "mimetype": "text/x-python",
   "name": "python",
   "nbconvert_exporter": "python",
   "pygments_lexer": "ipython3",
   "version": "3.9.7"
  }
 },
 "nbformat": 4,
 "nbformat_minor": 5
}
