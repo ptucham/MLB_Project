{
 "cells": [
  {
   "cell_type": "markdown",
   "id": "a8d410fb",
   "metadata": {},
   "source": [
    "pybaseball github with install instructions: https://github.com/jldbc/pybaseball <br>\n",
    "Documentation for pybaseball library: https://github.com/jldbc/pybaseball/tree/master/docs <br>\n",
    "Statcast header meanings: https://baseballsavant.mlb.com/csv-docs"
   ]
  },
  {
   "cell_type": "code",
   "execution_count": 1,
   "id": "8e9caf26",
   "metadata": {},
   "outputs": [],
   "source": [
    "import pybaseball\n",
    "import random\n",
    "import itertools\n",
    "# import pandas as pd\n",
    "import numpy as np\n",
    "from scipy.stats import norm\n",
    "from datetime import date, timedelta, datetime\n",
    "\n",
    "import warnings\n",
    "warnings.filterwarnings(\"ignore\")"
   ]
  },
  {
   "cell_type": "code",
   "execution_count": 12,
   "id": "d07b6fed",
   "metadata": {},
   "outputs": [],
   "source": [
    "teams = {\n",
    "    'NYY' : 'New York Yankees',\n",
    "    'LAD' : 'Los Angeles Dodgers',\n",
    "    'NYM' : 'New York Mets',\n",
    "    'TOR' : 'Toronto Blue Jays',\n",
    "    'ATL' : 'Atlanta Braves',\n",
    "    'MIN' : 'Minnesota Twins',\n",
    "    'PHI' : 'Philadelphia Phillies',\n",
    "    'SFG' : 'San Francisco Giants',\n",
    "    'BOS' : 'Boston Red Sox',\n",
    "    'COL' : 'Colorado Rockies',\n",
    "    'CHC' : 'Chicago Cubs',\n",
    "    'STL' : 'St. Louis Cardinals',\n",
    "    'HOU' : 'Houston Astros',\n",
    "    'MIA' : 'Miami Marlins',\n",
    "    'SEA' : 'Seattle Mariners',\n",
    "    'LAA' : 'Los Angeles Angels',\n",
    "    'MIL' : 'Milwaukee Brewers',\n",
    "    'WSN' : 'Washington Nationals',\n",
    "    'CLE' : 'Cleveland Guardians',\n",
    "    'CIN' : 'Cincinnati Reds',\n",
    "    'ARI' : 'Arizona Diamondbacks',\n",
    "    'SDP' : 'San Diego Padres',\n",
    "    'TBR' : 'Tampa Bay Rays',\n",
    "    'TEX' : 'Texas Rangers',\n",
    "    'BAL' : 'Baltimore Orioles',\n",
    "    'KCR' : 'Kansas City Royals',\n",
    "    'PIT' : 'Pittsburgh Pirates',\n",
    "    'CHW' : 'Chicago White Sox',\n",
    "    'DET' : 'Detroit Tigers',\n",
    "    'OAK' : 'Oakland Athletics'\n",
    "    \n",
    "}\n",
    "standings = pybaseball.standings(2022)\n",
    "season_standings = standings[0]\n",
    "for x in range(len(standings)-1):\n",
    "    season_standings = season_standings.append(standings[x+1]).reset_index(drop = True) "
   ]
  },
  {
   "cell_type": "code",
   "execution_count": null,
   "id": "4cae0fa8",
   "metadata": {},
   "outputs": [],
   "source": [
    "def simulation(year, home_team, away_team):\n",
    "    home_data = pybaseball.schedule_and_record(2022, home_team)\n",
    "    away_data = pybaseball.schedule_and_record(2022, away_team)\n",
    "    model_data = home_data[['R', 'RA']]\n",
    "    home_run_scored = home_data['R'].dropna()\n",
    "    home_run_allowed = home_data['RA'].dropna()\n",
    "    home_avg_scored = np.average(home_run_scored)\n",
    "    home_avg_allowed = np.average(home_run_allowed)\n",
    "    home_adj_scored = np.sqrt(home_avg_scored*home_avg_allowed) + 0.32 #Home field advantage adjustment\n",
    "    home_run_scored_std = home_run_scored.std()\n",
    "    \n",
    "    model_data = away_data[['R', 'RA']]\n",
    "    away_run_scored = away_data['R'].dropna()\n",
    "    away_run_allowed = away_data['RA'].dropna()\n",
    "    away_avg_scored = np.average(away_run_scored)\n",
    "    away_avg_allowed = np.average(away_run_allowed)\n",
    "    away_adj_scored = np.sqrt(away_avg_scored*away_avg_allowed)\n",
    "    away_run_scored_std = away_run_scored.std()\n",
    "    \n",
    "    home_team_record = season_standings.loc[season_standings['Tm'] == teams[home_team]].reset_index(drop=True)\n",
    "    home_team_win = round((int(home_team_record['W'][0]) / (int(home_team_record['W'][0]) + int(home_team_record['L'][0]))) * 100,1)\n",
    "    \n",
    "    away_team_record = season_standings.loc[season_standings['Tm'] == teams[away_team]].reset_index(drop=True)\n",
    "    away_team_win = round((int(away_team_record['W'][0]) / (int(away_team_record['W'][0]) + int(away_team_record['L'][0]))) * 100,1)\n",
    "    \n",
    "    WP_home = home_team_win * (1-away_team_win) / ((home_team_win * (1-away_team_win)) + (away_team_win * (1-home_team_win)))\n",
    "    WP_away = away_team_win * (1-home_team_win) / ((away_team_win * (1-home_team_win)) + (home_team_win * (1-away_team_win)))\n",
    "    \n",
    "    WP_home = round(WP_home*100,1)\n",
    "    WP_away = round(WP_away*100,1)\n",
    "    \n",
    "    home = 0\n",
    "    away = 0\n",
    "    for x in range(10000):\n",
    "        home_score = (norm.ppf(random.uniform(0, 1),home_adj_scored,home_run_scored_std) * .5) + (WP_home *.5)\n",
    "        \n",
    "        away_score = (norm.ppf(random.uniform(0, 1),away_adj_scored,away_run_scored_std) * .5) + (WP_away *.5)\n",
    "        if home_score>away_score:\n",
    "            home+=1\n",
    "        else:\n",
    "            away+=1\n",
    "    print(home_team + ':' + str(round(home/10000*100,1)) + '% '+ away_team + ':' + str(round(away/10000*100,1)) + '%')"
   ]
  },
  {
   "cell_type": "code",
   "execution_count": null,
   "id": "f1b3742d",
   "metadata": {},
   "outputs": [],
   "source": [
    "day_of_week = datetime.today().strftime('%A')\n",
    "\n",
    "today = date.today()\n",
    "d4 = today.strftime(\"%b-%d-%Y\")\n",
    "d4 = d4.replace('-', ' ')\n",
    "today = d4.split(' ')\n",
    "today.pop()\n",
    "if today[1][0] == '0':\n",
    "    today[1] = today[1][1]\n",
    "new_date = day_of_week + ', ' + today[0] + ' ' + today[1]"
   ]
  },
  {
   "cell_type": "code",
   "execution_count": null,
   "id": "0e8f2cd4",
   "metadata": {},
   "outputs": [],
   "source": [
    "team_abr = list(teams)\n",
    "games = []\n",
    "for x in team_abr:\n",
    "    test = pybaseball.schedule_and_record(2022, x)\n",
    "    test = test.loc[test['Date'] == new_date].reset_index(drop=True)\n",
    "    if len(test) > 0:\n",
    "        home_away = test['Home_Away'][0]\n",
    "        if home_away == '@':\n",
    "            games.append([test['Opp'][0], x])\n",
    "        else:\n",
    "            games.append([x,test['Opp'][0]])\n",
    "# games\n",
    "games.sort()\n",
    "todays_games = list(games for games,_ in itertools.groupby(games))"
   ]
  },
  {
   "cell_type": "code",
   "execution_count": null,
   "id": "9ee03160",
   "metadata": {
    "scrolled": true
   },
   "outputs": [],
   "source": [
    "for x in todays_games:\n",
    "    simulation(2022, x[0], x[1])"
   ]
  },
  {
   "cell_type": "code",
   "execution_count": 10,
   "id": "b4c29510",
   "metadata": {},
   "outputs": [
    {
     "data": {
      "text/plain": [
       "'Thursday, Jun 23'"
      ]
     },
     "execution_count": 10,
     "metadata": {},
     "output_type": "execute_result"
    }
   ],
   "source": [
    "day_of_week_yesterday = datetime.today() - timedelta(days=1)\n",
    "day_of_week_yesterday = day_of_week.strftime('%A')\n",
    "\n",
    "yesterday = date.today() - timedelta(days=1)\n",
    "d4 = yesterday.strftime(\"%b-%d-%Y\")\n",
    "d4 = d4.replace('-', ' ')\n",
    "yesterday = d4.split(' ')\n",
    "yesterday.pop()\n",
    "if yesterday[1][0] == '0':\n",
    "    yesterday[1] = yesterday[1][1]\n",
    "yesterday_date = day_of_week_yesterday + ', ' + yesterday[0] + ' ' + yesterday[1]\n",
    "yesterday_date"
   ]
  },
  {
   "cell_type": "code",
   "execution_count": 25,
   "id": "aaad0e87",
   "metadata": {},
   "outputs": [
    {
     "data": {
      "text/plain": [
       "[['ATL', 'SFG', 'W'],\n",
       " ['CHW', 'BAL', 'L'],\n",
       " ['CIN', 'LAD', 'L'],\n",
       " ['MIA', 'COL', 'W'],\n",
       " ['MIL', 'STL', 'W'],\n",
       " ['MIN', 'CLE', 'W'],\n",
       " ['NYY', 'HOU', 'W-wo'],\n",
       " ['OAK', 'SEA', 'L'],\n",
       " ['PIT', 'CHC', 'W-wo'],\n",
       " ['SDP', 'PHI', 'L']]"
      ]
     },
     "execution_count": 25,
     "metadata": {},
     "output_type": "execute_result"
    }
   ],
   "source": [
    "team_abr = list(teams)\n",
    "games = []\n",
    "for x in team_abr:\n",
    "    test = pybaseball.schedule_and_record(2022, x)\n",
    "    test = test.loc[test['Date'] == yesterday_date].reset_index(drop=True)\n",
    "    if len(test) > 0:\n",
    "        home_away = test['Home_Away'][0]\n",
    "        if home_away == '@':\n",
    "            games.append([test['Opp'][0], x])\n",
    "        else:\n",
    "            games.append([x,test['Opp'][0], test['W/L'][0]])\n",
    "# games\n",
    "games.sort()\n",
    "yesterday_games = list(games for games,_ in itertools.groupby(games))\n",
    "results = []\n",
    "for x in range(len(yesterday_games)):\n",
    "    if len(yesterday_games[x]) == 3:\n",
    "        results.append(yesterday_games[x])\n",
    "results"
   ]
  }
 ],
 "metadata": {
  "kernelspec": {
   "display_name": "Python 3 (ipykernel)",
   "language": "python",
   "name": "python3"
  },
  "language_info": {
   "codemirror_mode": {
    "name": "ipython",
    "version": 3
   },
   "file_extension": ".py",
   "mimetype": "text/x-python",
   "name": "python",
   "nbconvert_exporter": "python",
   "pygments_lexer": "ipython3",
   "version": "3.9.7"
  }
 },
 "nbformat": 4,
 "nbformat_minor": 5
}
