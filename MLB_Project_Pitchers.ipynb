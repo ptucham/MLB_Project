{
 "cells": [
  {
   "cell_type": "code",
   "execution_count": 1,
   "metadata": {},
   "outputs": [],
   "source": [
    "import pandas as pd\n",
    "import numpy as np\n",
    "import matplotlib.pyplot as plt\n",
    "from matplotlib.patches import Rectangle\n",
    "from collections import Counter"
   ]
  },
  {
   "cell_type": "code",
   "execution_count": 2,
   "metadata": {},
   "outputs": [],
   "source": [
    "games19 = pd.read_csv(\"mlb_data/2019_games.csv\")\n",
    "atbats19 = pd.read_csv(\"mlb_data/2019_atbats.csv\")\n",
    "pitches19 = pd.read_csv(\"mlb_data/2019_pitches.csv\")\n",
    "players = pd.read_csv(\"mlb_data/player_names.csv\")"
   ]
  },
  {
   "cell_type": "code",
   "execution_count": 3,
   "metadata": {},
   "outputs": [],
   "source": [
    "# This section is to get the name of the pitcher\n",
    "def pitcher(last_name, first_name):\n",
    "    pitcher = pd.DataFrame()\n",
    "    for x in range(len(players)):\n",
    "        if (players['last_name'][x] == last_name and players['first_name'][x] == first_name) == True:\n",
    "            pitcher = pitcher.append(pd.DataFrame(players.loc[[x]]))\n",
    "    pitcher = pitcher.reset_index(drop = True)\n",
    "    return pitcher"
   ]
  },
  {
   "cell_type": "code",
   "execution_count": 4,
   "metadata": {
    "scrolled": true
   },
   "outputs": [],
   "source": [
    "# This has every pitch thrown in every game\n",
    "def batters_faced(last_name, first_name):\n",
    "    pitcher_id = pitcher(last_name, first_name)\n",
    "    pitcher_at_bats = pd.DataFrame()\n",
    "    for x in range(len(atbats19)):\n",
    "        if(atbats19['pitcher_id'][x] == pitcher_id['id'][0]) == True:\n",
    "            pitcher_at_bats = pitcher_at_bats.append(pd.DataFrame(atbats19.loc[[x]]))\n",
    "    pitcher_at_bats = pitcher_at_bats.reset_index(drop = True)\n",
    "    return pitcher_at_bats"
   ]
  },
  {
   "cell_type": "code",
   "execution_count": 5,
   "metadata": {},
   "outputs": [],
   "source": [
    "# Breaksdown the games the pitcher threw in.\n",
    "def game_summary(last_name, first_name):\n",
    "    pitcher_at_bats = batters_faced(last_name, first_name)\n",
    "    pitcher_game_summary = pitcher_at_bats.copy()\n",
    "    pitcher_game_summary = pitcher_game_summary.drop_duplicates(subset=['g_id'])\n",
    "    pitcher_game_summary = pitcher_game_summary.reset_index(drop = True)\n",
    "    return pitcher_game_summary"
   ]
  },
  {
   "cell_type": "code",
   "execution_count": 6,
   "metadata": {},
   "outputs": [],
   "source": [
    "def pitches_thrown(last_name, first_name):\n",
    "    count = 0\n",
    "    count2 = 0\n",
    "    pitcher_at_bats = batters_faced(last_name, first_name)\n",
    "    at_bat_stats = pd.DataFrame()\n",
    "    while count2 < len(pitches19)-1:\n",
    "        if (count>len(pitcher_at_bats)-1):\n",
    "            break\n",
    "        pitch = pitches19['ab_id'][count2]\n",
    "        bat = pitcher_at_bats['ab_id'][count]\n",
    "        if (pitch == bat ):\n",
    "            at_bat_stats = at_bat_stats.append(pitches19.loc[count2])\n",
    "        if(pitch>bat):\n",
    "            count+=1\n",
    "            count2-=1\n",
    "        count2 +=1\n",
    "    at_bat_stats = at_bat_stats.reset_index(drop = True)\n",
    "    return at_bat_stats"
   ]
  },
  {
   "cell_type": "code",
   "execution_count": 7,
   "metadata": {},
   "outputs": [],
   "source": [
    "# Breakdown of the pitches thrown by a counter\n",
    "def total_pitches(last_name, first_name):\n",
    "    at_bat_stats = pitches_thrown(last_name, first_name)\n",
    "    total_pitches = Counter(at_bat_stats['pitch_type']).most_common()\n",
    "    return total_pitches"
   ]
  },
  {
   "cell_type": "code",
   "execution_count": 8,
   "metadata": {
    "scrolled": true
   },
   "outputs": [],
   "source": [
    "# Return the location of every pitch matched up to the type of pitch it was.\n",
    "def pitch_type_breakdown(last_name, first_name):\n",
    "    total_pitches1 = total_pitches(last_name, first_name)\n",
    "    at_bat_stats1 = pitches_thrown(last_name, first_name)\n",
    "    pitch_type = []*len(total_pitches1)\n",
    "    for x in range(len(total_pitches1)):\n",
    "        if type(total_pitches1[x][0]) == str:\n",
    "            pitch_type.append([total_pitches1[x][0]])\n",
    "    for x in range(len(total_pitches1)):\n",
    "        for k in range(len(at_bat_stats1)):\n",
    "            location = []\n",
    "            if (total_pitches1[x][0] == at_bat_stats1['pitch_type'][k]):\n",
    "                location.append(at_bat_stats1['px'][k])\n",
    "                location.append(at_bat_stats1['pz'][k])\n",
    "                location.append(at_bat_stats1['code'][k])\n",
    "                pitch_type[x].append(location)\n",
    "    return pitch_type"
   ]
  },
  {
   "cell_type": "code",
   "execution_count": 9,
   "metadata": {},
   "outputs": [],
   "source": [
    "# balls and strikes for all pitches thrown.\n",
    "def balls_and_strikes(last_name, first_name):\n",
    "    stats= pitch_type_breakdown(last_name, first_name)\n",
    "    color = []\n",
    "    for x in range(len(stats)):\n",
    "        long = stats[x][:]\n",
    "        counter = 1\n",
    "        while counter < len(long):\n",
    "            if stats[x][counter][2] == ('B') or stats[x][counter][2] == ('*B') or stats[x][counter][2] == ('H') or stats[x][counter][2] == ('I'):\n",
    "                stats[x][counter][2] = 'b'\n",
    "            else:\n",
    "                stats[x][counter][2] = 'r'\n",
    "            counter+=1\n",
    "    return stats"
   ]
  },
  {
   "cell_type": "markdown",
   "metadata": {},
   "source": [
    "Strike Zone size is about 20in wide 26in tall. about 18.25in off the ground and the top is around 44in off the ground."
   ]
  },
  {
   "cell_type": "code",
   "execution_count": 10,
   "metadata": {
    "scrolled": false
   },
   "outputs": [],
   "source": [
    "# all pitches mapped out\n",
    "def strikezone_map(last_name, first_name):\n",
    "    pitch_type = balls_and_strikes(last_name, first_name)\n",
    "    for x in range(len(pitch_type)):\n",
    "        test = pitch_type[x][:]\n",
    "        test.pop([0][0])\n",
    "        ys = [test[x][0] for x in range(len(test))]\n",
    "        xs = [test[x][1] for x in range(len(test))]\n",
    "        color = [test[x][2] for x in range(len(test))]\n",
    "        plt.scatter(xs,ys, c=color)\n",
    "        currentAxis = plt.gca()\n",
    "#         currentAxis.add_patch(Rectangle((-0.8, 1.59), 1.6, 2.15, fill=None, alpha=1)) # Strike Zone\n",
    "        plt.title(pitch_type[x][0])\n",
    "    plt.title(\"Pitch Placement\")\n",
    "    plt.show()   \n",
    "\n",
    "# each pitch type mapped out\n",
    "def pitch_breakdown(last_name, first_name):\n",
    "    pitch_type = balls_and_strikes(last_name, first_name)\n",
    "    for x in range(len(pitch_type)):\n",
    "        test = pitch_type[x][:]\n",
    "        test.pop([0][0])\n",
    "        ys = [test[x][0] for x in range(len(test))]\n",
    "        xs = [test[x][1] for x in range(len(test))]\n",
    "        color = [test[x][2] for x in range(len(test))]\n",
    "        plt.scatter(xs,ys, c=color)\n",
    "        currentAxis = plt.gca()\n",
    "#         currentAxis.add_patch(Rectangle((-0.8, 1.59), 1.6, 2.15, fill=None, alpha=1)) # Strike Zone\n",
    "        plt.title(pitch_type[x][0])\n",
    "        plt.show()"
   ]
  },
  {
   "cell_type": "code",
   "execution_count": 11,
   "metadata": {
    "scrolled": false
   },
   "outputs": [],
   "source": [
    "def main(last_name, first_name):\n",
    "    strikezone_map(last_name, first_name)\n",
    "    pitch_breakdown(last_name, first_name)"
   ]
  },
  {
   "cell_type": "code",
   "execution_count": null,
   "metadata": {},
   "outputs": [],
   "source": [
    "main(\"Verlander\",\"Justin\")"
   ]
  }
 ],
 "metadata": {
  "kernelspec": {
   "display_name": "Python 3 (ipykernel)",
   "language": "python",
   "name": "python3"
  },
  "language_info": {
   "codemirror_mode": {
    "name": "ipython",
    "version": 3
   },
   "file_extension": ".py",
   "mimetype": "text/x-python",
   "name": "python",
   "nbconvert_exporter": "python",
   "pygments_lexer": "ipython3",
   "version": "3.9.7"
  }
 },
 "nbformat": 4,
 "nbformat_minor": 2
}
