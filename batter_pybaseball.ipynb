{
 "cells": [
  {
   "cell_type": "markdown",
   "id": "3967a18f",
   "metadata": {},
   "source": [
    "pybaseball github with install instructions: https://github.com/jldbc/pybaseball <br>\n",
    "Documentation for pybaseball library: https://github.com/jldbc/pybaseball/tree/master/docs <br>\n",
    "Statcast header meanings: https://baseballsavant.mlb.com/csv-docs"
   ]
  },
  {
   "cell_type": "markdown",
   "id": "8a61e5c6",
   "metadata": {},
   "source": [
    "plate_x\n",
    "Horizontal position of the ball when it crosses home plate from the catcher's perspective.\n",
    "\n",
    "plate_z\n",
    "Vertical position of the ball when it crosses home plate from the catcher's perspective."
   ]
  },
  {
   "cell_type": "code",
   "execution_count": 1,
   "id": "de42fc79",
   "metadata": {},
   "outputs": [],
   "source": [
    "import pybaseball\n",
    "import pandas as pd\n",
    "import numpy as np\n",
    "import matplotlib.pyplot as plt\n",
    "from collections import Counter"
   ]
  },
  {
   "cell_type": "code",
   "execution_count": 2,
   "id": "18dbe50a",
   "metadata": {},
   "outputs": [],
   "source": [
    "def batter(last_name, first_name):\n",
    "    batter = pybaseball.playerid_lookup(last_name, first_name)\n",
    "    return batter"
   ]
  },
  {
   "cell_type": "code",
   "execution_count": 3,
   "id": "035247f5",
   "metadata": {},
   "outputs": [],
   "source": [
    "def games_played_in_timeframe(first_name, last_name, start_date, end_date):\n",
    "    l_name = last_name\n",
    "    f_name = first_name\n",
    "    batter_data = batter(l_name, f_name)\n",
    "    batter_id = str(batter_data['key_mlbam'][0])\n",
    "    batter_data = pybaseball.statcast_batter(start_date, end_date, batter_id)\n",
    "    dates = list(Counter(batter_data['game_date']))\n",
    "    clean_period = []\n",
    "    for x in dates:\n",
    "        date_split = x.split('-')\n",
    "        day = date_split[2]\n",
    "        if day[0] == '0':\n",
    "            day = day[1]\n",
    "            date_split[2] = day\n",
    "        date_clean = '-'.join(date_split)\n",
    "        clean_period.append('-'.join(date_split))\n",
    "    return clean_period"
   ]
  },
  {
   "cell_type": "code",
   "execution_count": 4,
   "id": "82c80615",
   "metadata": {},
   "outputs": [],
   "source": [
    "def batter_game_number(dates, team):\n",
    "    months = {'Jan' : '01', 'Feb' : '02', 'Mar' : '03', 'Apr' : '04', 'May' : '05', 'Jun' : '06',\n",
    "          'Jul' : '07', 'Aug': '08', 'Sep' : '09', 'Oct' : '10', 'Nov' : '11', 'Dec' : '12'}\n",
    "    \n",
    "    game_dates = []\n",
    "    for x in dates:   \n",
    "        game_date = x.split('-')\n",
    "        year = game_date[0]\n",
    "        game_date = game_date[1:]\n",
    "        game_dates.append('-'.join(game_date))        \n",
    "    \n",
    "    batter_logs = pybaseball.team_game_logs(year, team, \"batting\")\n",
    "    test = list(batter_logs['Date'])\n",
    "    test = [i.split() for i in test]\n",
    "    x = 0\n",
    "    for ind in test:\n",
    "        ind[0] = months.get(ind[0])\n",
    "        new_string = '-'.join(ind)\n",
    "        test[x] = new_string\n",
    "        x+=1\n",
    "    batter_logs['Date'] = test\n",
    "    \n",
    "    game_ids = []\n",
    "    data = pybaseball.statcast(dates[0], dates[-1])\n",
    "    for x in range(len(dates)):\n",
    "        game = batter_logs.loc[batter_logs['Date'] == game_dates[x]].reset_index()\n",
    "        game_data = data.loc[data['game_date'] == dates[x]]\n",
    "        if len(game) > 0:\n",
    "            if game['Home'][0] == True:\n",
    "                batter_game_data = game_data.loc[game_data['away_team'] == team]\n",
    "                game_pk = list(batter_game_data['game_pk'])\n",
    "                game_ids.append(game_pk[0])\n",
    "            else:\n",
    "                batter_game_data = game_data.loc[game_data['home_team'] == team]\n",
    "                game_pk = list(batter_game_data['game_pk'])\n",
    "                game_ids.append(game_pk[0])\n",
    "    return game_ids"
   ]
  },
  {
   "cell_type": "code",
   "execution_count": 5,
   "id": "a3984c0f",
   "metadata": {},
   "outputs": [],
   "source": [
    "def batter_game_complete_data(game_id, batter_id):\n",
    "    data = pybaseball.statcast_single_game(game_id).reset_index(drop = True)\n",
    "    batter_data = pd.DataFrame()\n",
    "    for x in range(len(data)):\n",
    "        if data['batter'][x] == batter_id:\n",
    "            batter_data = batter_data.append(data.iloc[[x]])\n",
    "    batter_data = batter_data.reset_index(drop = True)\n",
    "    return batter_data"
   ]
  },
  {
   "cell_type": "code",
   "execution_count": 6,
   "id": "bbc665e7",
   "metadata": {},
   "outputs": [],
   "source": [
    "def pitch_summary(game_data):\n",
    "    data = Counter(game_data['pitch_type'])\n",
    "    return data"
   ]
  },
  {
   "cell_type": "code",
   "execution_count": 7,
   "id": "2b9a7ddd",
   "metadata": {},
   "outputs": [],
   "source": [
    "def ball_and_strike(game_data):\n",
    "    balls = pd.DataFrame(columns = ['pitch_type', 'description'])\n",
    "    strikes = pd.DataFrame(columns = ['pitch_type', 'description'])\n",
    "    live = pd.DataFrame(columns = ['pitch_type', 'description'])\n",
    "    k = 0\n",
    "    for x in range(len(game_data)):\n",
    "        if game_data['description'][x] == 'ball':\n",
    "            details = game_data[['pitch_type','description', 'plate_x', 'plate_z']].iloc[[x]]\n",
    "            balls = balls.append(details)\n",
    "        elif game_data['description'][x] == 'hit_into_play':\n",
    "            details = game_data[['pitch_type','description', 'plate_x', 'plate_z']].iloc[[x]]\n",
    "            live = live.append(details)\n",
    "        else:\n",
    "            details = game_data[['pitch_type','description', 'plate_x', 'plate_z']].iloc[[x]]\n",
    "            strikes = strikes.append(details)\n",
    "    return balls, strikes, live"
   ]
  },
  {
   "cell_type": "code",
   "execution_count": 8,
   "id": "a353ac40",
   "metadata": {},
   "outputs": [],
   "source": [
    "def pitch_graph(pitching_breakdowns, start_date, end_date):\n",
    "    pitch_ball = pitching_breakdowns[0]\n",
    "    balls_xs = [x for x in pitch_ball['plate_x'].reset_index(drop = True)]\n",
    "    balls_zs = [x for x in pitch_ball['plate_z'].reset_index(drop = True)]\n",
    "    balls_colors = ['blue' for x in range(len(balls_xs))]\n",
    "\n",
    "    pitch_strike = pitching_breakdowns[1]\n",
    "    strikes_xs = [x for x in pitch_strike['plate_x'].reset_index(drop = True)]\n",
    "    strikes_zs = [x for x in pitch_strike['plate_z'].reset_index(drop = True)]\n",
    "    strikes_colors = ['red' for x in range(len(strikes_xs))]\n",
    "\n",
    "    pitch_hit = pitching_breakdowns[2]\n",
    "    hit_xs = [x for x in pitch_hit['plate_x'].reset_index(drop = True)]\n",
    "    hit_zs = [x for x in pitch_hit['plate_z'].reset_index(drop = True)]\n",
    "    hit_colors = ['green' for x in range(len(hit_xs))]\n",
    "\n",
    "\n",
    "    xs = strikes_xs + balls_xs + hit_xs\n",
    "    zs = strikes_zs + balls_zs + hit_zs\n",
    "    colors = strikes_colors + balls_colors + hit_colors\n",
    "    \n",
    "    plt.title('All Pitches Thrown between ' + start_date + ' and ' + end_date)\n",
    "    plt.scatter(xs,zs,color = colors)\n",
    "    plt.show()"
   ]
  },
  {
   "cell_type": "code",
   "execution_count": 9,
   "id": "15ce90dd",
   "metadata": {},
   "outputs": [],
   "source": [
    "def main(first_name, last_name, start_date, end_date, team):\n",
    "    desired_batter = batter(last_name, first_name)\n",
    "    desired_batter_id = desired_batter['key_mlbam'][0]\n",
    "    \n",
    "    games = games_played_in_timeframe(first_name, last_name, start_date, end_date)\n",
    "    \n",
    "    game_id = batter_game_number(games, team)\n",
    "    \n",
    "    game_batter_data = pd.DataFrame()\n",
    "    for x in game_id:\n",
    "        game_batter_data = game_batter_data.append(batter_game_complete_data(x, desired_batter_id))\n",
    "    game_batter_data = game_batter_data.iloc[::-1].reset_index(drop = True)\n",
    "    \n",
    "    pitch_breakdown_in_timeframe = pitch_summary(game_batter_data)\n",
    "    pitch_breakdowns = ball_and_strike(game_batter_data)\n",
    "    pitch_graph(pitch_breakdowns, start_date, end_date)\n",
    "#     return game_batter_data"
   ]
  },
  {
   "cell_type": "code",
   "execution_count": 10,
   "id": "eeb1b619",
   "metadata": {
    "scrolled": true
   },
   "outputs": [
    {
     "name": "stdout",
     "output_type": "stream",
     "text": [
      "Gathering player lookup table. This may take a moment.\n",
      "Gathering Player Data\n",
      "This is a large query, it may take a moment to complete\n"
     ]
    },
    {
     "name": "stderr",
     "output_type": "stream",
     "text": [
      "100%|██████████████████████████████████████████████████████████████████████████████████| 30/30 [01:34<00:00,  3.14s/it]\n"
     ]
    },
    {
     "data": {
      "image/png": "[encoded data removed]",
      "text/plain": [
       "<Figure size 432x288 with 1 Axes>"
      ]
     },
     "metadata": {
      "needs_background": "light"
     },
     "output_type": "display_data"
    }
   ],
   "source": [
    "main('brett','gardner','2017-07-1','2017-07-31', 'NYY')"
   ]
  }
 ],
 "metadata": {
  "kernelspec": {
   "display_name": "Python 3 (ipykernel)",
   "language": "python",
   "name": "python3"
  },
  "language_info": {
   "codemirror_mode": {
    "name": "ipython",
    "version": 3
   },
   "file_extension": ".py",
   "mimetype": "text/x-python",
   "name": "python",
   "nbconvert_exporter": "python",
   "pygments_lexer": "ipython3",
   "version": "3.9.7"
  }
 },
 "nbformat": 4,
 "nbformat_minor": 5
}
