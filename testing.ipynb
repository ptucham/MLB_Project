{
 "cells": [
  {
   "cell_type": "markdown",
   "id": "3967a18f",
   "metadata": {},
   "source": [
    "pybaseball github with install instructions: https://github.com/jldbc/pybaseball <br>\n",
    "Documentation for pybaseball library: https://github.com/jldbc/pybaseball/tree/master/docs <br>\n",
    "Statcast header meanings: https://baseballsavant.mlb.com/csv-docs"
   ]
  },
  {
   "cell_type": "markdown",
   "id": "8a61e5c6",
   "metadata": {},
   "source": [
    "plate_x\n",
    "Horizontal position of the ball when it crosses home plate from the catcher's perspective.\n",
    "\n",
    "plate_z\n",
    "Vertical position of the ball when it crosses home plate from the catcher's perspective."
   ]
  },
  {
   "cell_type": "code",
   "execution_count": 1,
   "id": "de42fc79",
   "metadata": {},
   "outputs": [],
   "source": [
    "import pybaseball\n",
    "import pandas as pd\n",
    "import numpy as np\n",
    "import matplotlib.pyplot as plt\n",
    "from collections import Counter\n",
    "from datetime import date"
   ]
  },
  {
   "cell_type": "code",
   "execution_count": 2,
   "id": "18dbe50a",
   "metadata": {},
   "outputs": [],
   "source": [
    "def player(first_name, last_name):\n",
    "    today = date.today()\n",
    "    today_date = today.strftime(\"20%y-%m-%d\")\n",
    "    \n",
    "    player_info = pybaseball.playerid_lookup(last_name, first_name)\n",
    "    if (player_info['mlb_played_last'][0] - player_info['mlb_played_first'][0]) < 10:\n",
    "        start_year = int(player_info['mlb_played_first'][0])\n",
    "    else:\n",
    "        start_year = int(player_info['mlb_played_last'][0] - 10)\n",
    "        \n",
    "    player_id = player_info['key_mlbam'][0]\n",
    "    player_info = [player_id,start_year,str(player_info['mlb_played_last'][0])]\n",
    "    \n",
    "    data = pybaseball.statcast_batter(start_dt = str(player_info[1]) + '-01-01', end_dt = today_date, player_id = player_info[0])\n",
    "    data = data.reset_index(drop = True)\n",
    "    return data"
   ]
  },
  {
   "cell_type": "code",
   "execution_count": 3,
   "id": "28568357",
   "metadata": {},
   "outputs": [],
   "source": [
    "def ball_and_strike(game_data):\n",
    "    balls = pd.DataFrame(columns = ['pitch_type', 'description'])\n",
    "    strikes = pd.DataFrame(columns = ['pitch_type', 'description'])\n",
    "    live = pd.DataFrame(columns = ['pitch_type', 'description'])\n",
    "    k = 0\n",
    "    for x in range(len(game_data)):\n",
    "        if game_data['description'][x] == 'ball':\n",
    "            details = game_data[['pitcher', 'pitch_type','description', 'plate_x', 'plate_z']].iloc[[x]]\n",
    "            balls = balls.append(details)\n",
    "        elif game_data['description'][x] == 'hit_into_play':\n",
    "            details = game_data[['pitcher', 'pitch_type','description', 'plate_x', 'plate_z']].iloc[[x]]\n",
    "            live = live.append(details)\n",
    "        else:\n",
    "            details = game_data[['pitcher', 'pitch_type','description', 'plate_x', 'plate_z']].iloc[[x]]\n",
    "            strikes = strikes.append(details)\n",
    "    return balls, strikes, live"
   ]
  },
  {
   "cell_type": "code",
   "execution_count": 7,
   "id": "2ea30ba4",
   "metadata": {},
   "outputs": [],
   "source": [
    "home_team = ['brett gardner', 'clint frazier', 'aaron judge', 'matt holliday', 'didi gregorius',\n",
    "             'chase headley', 'todd frazier', 'tyler wade', 'austin romine']"
   ]
  },
  {
   "cell_type": "code",
   "execution_count": 8,
   "id": "1fd31ea3",
   "metadata": {},
   "outputs": [
    {
     "name": "stdout",
     "output_type": "stream",
     "text": [
      "['brett', 'gardner']\n",
      "Gathering Player Data\n",
      "['clint', 'frazier']\n",
      "Gathering Player Data\n",
      "['aaron', 'judge']\n",
      "Gathering Player Data\n",
      "['matt', 'holliday']\n",
      "Gathering Player Data\n",
      "['didi', 'gregorius']\n",
      "Gathering Player Data\n",
      "['chase', 'headley']\n",
      "Gathering Player Data\n",
      "['todd', 'frazier']\n",
      "Gathering Player Data\n",
      "['tyler', 'wade']\n",
      "Gathering Player Data\n",
      "['austin', 'romine']\n",
      "Gathering Player Data\n"
     ]
    }
   ],
   "source": [
    "athletes = []\n",
    "for x in home_team:\n",
    "    name = x.split()\n",
    "    print(name)\n",
    "    athletes.append(player(name[0],name[1]))"
   ]
  },
  {
   "cell_type": "code",
   "execution_count": null,
   "id": "8b02ef06",
   "metadata": {},
   "outputs": [],
   "source": [
    "# data.loc[data['pitcher'] == 592332]"
   ]
  }
 ],
 "metadata": {
  "kernelspec": {
   "display_name": "Python 3 (ipykernel)",
   "language": "python",
   "name": "python3"
  },
  "language_info": {
   "codemirror_mode": {
    "name": "ipython",
    "version": 3
   },
   "file_extension": ".py",
   "mimetype": "text/x-python",
   "name": "python",
   "nbconvert_exporter": "python",
   "pygments_lexer": "ipython3",
   "version": "3.9.7"
  }
 },
 "nbformat": 4,
 "nbformat_minor": 5
}
