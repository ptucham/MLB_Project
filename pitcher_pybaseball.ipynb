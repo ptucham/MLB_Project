{
 "cells": [
  {
   "cell_type": "markdown",
   "id": "3967a18f",
   "metadata": {},
   "source": [
    "pybaseball github with install instructions: https://github.com/jldbc/pybaseball <br>\n",
    "Documentation for pybaseball library: https://github.com/jldbc/pybaseball/tree/master/docs"
   ]
  },
  {
   "cell_type": "code",
   "execution_count": 1,
   "id": "de42fc79",
   "metadata": {},
   "outputs": [],
   "source": [
    "import pybaseball\n",
    "import pandas as pd\n",
    "from collections import Counter"
   ]
  },
  {
   "cell_type": "code",
   "execution_count": 2,
   "id": "18dbe50a",
   "metadata": {},
   "outputs": [],
   "source": [
    "def pitcher(last_name, first_name):\n",
    "    pitcher = pybaseball.playerid_lookup(last_name, first_name)\n",
    "    return pitcher"
   ]
  },
  {
   "cell_type": "code",
   "execution_count": 3,
   "id": "035247f5",
   "metadata": {},
   "outputs": [],
   "source": [
    "def games_pitched_in_timeframe(first_name, last_name, start_date, end_date):\n",
    "    l_name = last_name\n",
    "    f_name = first_name\n",
    "    pitcher_data = pitcher(l_name, f_name)\n",
    "    pitcher_id = str(pitcher_data['key_mlbam'][0])\n",
    "    pitching_data = pybaseball.statcast_pitcher(start_date, end_date, pitcher_id)\n",
    "    return list(Counter(pitching_data['game_date']))"
   ]
  },
  {
   "cell_type": "code",
   "execution_count": 4,
   "id": "9fd2b6b2",
   "metadata": {
    "scrolled": true
   },
   "outputs": [],
   "source": [
    "def pitcher_game_number(date, team):\n",
    "    months = {'Jan' : '01', 'Feb' : '02', 'Mar' : '03', 'Apr' : '04', 'May' : '05', 'Jun' : '06',\n",
    "          'Jul' : '07', 'Aug': '08', 'Sep' : '09', 'Oct' : '10', 'Nov' : '11', 'Dec' : '12'}\n",
    "    \n",
    "    game_date = date.split('-')\n",
    "    year = game_date[0]\n",
    "    game_date = game_date[1:]\n",
    "    game_date = '-'.join(game_date)\n",
    "    \n",
    "    pitching_logs = pybaseball.team_game_logs(year, team, \"pitching\")\n",
    "    test = list(pitching_logs['Date'])\n",
    "    test = [i.split() for i in test]\n",
    "    x = 0\n",
    "    for ind in test:\n",
    "        ind[0] = months.get(ind[0])\n",
    "        new_string = '-'.join(ind)\n",
    "        test[x] = new_string\n",
    "        x+=1\n",
    "    pitching_logs['Date'] = test\n",
    "    game = pitching_logs.loc[pitching_logs['Date'] == game_date].reset_index()\n",
    "    data = pybaseball.statcast(date, date)\n",
    "    if game['Home'][0] == True:\n",
    "        test = data.loc[data['away_team'] == 'LAD']\n",
    "        game_pk = list(test['game_pk'])\n",
    "        return game_pk[0]\n",
    "    else:\n",
    "        test = data.loc[data['home_team'] == 'LAD']\n",
    "        game_pk = list(test['game_pk'])\n",
    "        return game_pk[0]"
   ]
  },
  {
   "cell_type": "code",
   "execution_count": 5,
   "id": "94bdca0f",
   "metadata": {},
   "outputs": [],
   "source": [
    "def pitcher_game_complete_data(game_id, pitcher_id):\n",
    "    data = pybaseball.statcast_single_game(game_id).reset_index(drop = True)\n",
    "    pitcher_data = pd.DataFrame()\n",
    "    for x in range(len(data)):\n",
    "        if data['pitcher'][x] == pitcher_id:\n",
    "            pitcher_data = pitcher_data.append(data.iloc[[x]])\n",
    "    pitcher_data = pitcher_data.reset_index(drop = True)\n",
    "    return pitcher_data"
   ]
  },
  {
   "cell_type": "code",
   "execution_count": 6,
   "id": "5263b9a2",
   "metadata": {},
   "outputs": [],
   "source": [
    "def pitch_summary(game_data):\n",
    "    data = Counter(game_data['pitch_type'])\n",
    "    return data"
   ]
  },
  {
   "cell_type": "code",
   "execution_count": 109,
   "id": "b975e088",
   "metadata": {},
   "outputs": [],
   "source": [
    "def ball_and_strike(game_data):\n",
    "    balls = pd.DataFrame(columns = ['pitch_type', 'description'])\n",
    "    strikes = pd.DataFrame(columns = ['pitch_type', 'description'])\n",
    "    live = pd.DataFrame(columns = ['pitch_type', 'description'])\n",
    "    k = 0\n",
    "    for x in range(len(game_data)):\n",
    "        if game_data['description'][x] == 'ball':\n",
    "            details = game_data[['pitch_type','description']].iloc[[x]]\n",
    "            balls = balls.append(details)\n",
    "        elif game_data['description'][x] == 'hit_into_play':\n",
    "            details = game_data[['pitch_type','description']].iloc[[x]]\n",
    "            live = live.append(details)\n",
    "        else:\n",
    "            details = game_data[['pitch_type','description']].iloc[[x]]\n",
    "            strikes = strikes.append(details)\n",
    "    return balls, strikes, live"
   ]
  },
  {
   "cell_type": "code",
   "execution_count": 66,
   "id": "a7369f91",
   "metadata": {},
   "outputs": [],
   "source": [
    "def main(first_name, last_name, start_date, end_date, team):\n",
    "    year = start_date.split('-')\n",
    "    year = int(start_date[0])\n",
    "    \n",
    "    desired_pitcher = pitcher(last_name, first_name)\n",
    "    desired_pitcher_id = desired_pitcher['key_mlbam'][0]\n",
    "    \n",
    "    games = games_pitched_in_timeframe(first_name, last_name, start_date, end_date)\n",
    "    \n",
    "    game_id = pitcher_game_number(games[0], team)\n",
    "    game_pitch_data = pitcher_game_complete_data(game_id, desired_pitcher_id)\n",
    "    print(pitch_summary(game_pitch_data))\n",
    "    print(ball_and_strike(game_pitch_data))\n",
    "#     return game_pitch_data"
   ]
  },
  {
   "cell_type": "code",
   "execution_count": 110,
   "id": "6f86f60f",
   "metadata": {},
   "outputs": [
    {
     "name": "stdout",
     "output_type": "stream",
     "text": [
      "Gathering Player Data\n",
      "This is a large query, it may take a moment to complete\n"
     ]
    },
    {
     "name": "stderr",
     "output_type": "stream",
     "text": [
      "100%|████████████████████████████████████████████████████████████████████████████████████| 1/1 [00:02<00:00,  2.11s/it]\n"
     ]
    },
    {
     "name": "stdout",
     "output_type": "stream",
     "text": [
      "Counter({'FF': 38, 'SL': 31, 'CU': 23, 'CH': 1})\n",
      "(   pitch_type description\n",
      "1          SL        ball\n",
      "3          FF        ball\n",
      "9          FF        ball\n",
      "10         SL        ball\n",
      "16         FF        ball\n",
      "20         CU        ball\n",
      "26         FF        ball\n",
      "30         CU        ball\n",
      "41         CU        ball\n",
      "47         SL        ball\n",
      "50         FF        ball\n",
      "51         FF        ball\n",
      "57         FF        ball\n",
      "62         SL        ball\n",
      "63         SL        ball\n",
      "71         CU        ball\n",
      "79         SL        ball\n",
      "80         SL        ball\n",
      "85         FF        ball\n",
      "89         CU        ball\n",
      "92         FF        ball,    pitch_type              description\n",
      "0          SL  swinging_strike_blocked\n",
      "2          CU                     foul\n",
      "4          CU            called_strike\n",
      "5          SL          swinging_strike\n",
      "7          FF                     foul\n",
      "8          FF          swinging_strike\n",
      "11         SL            called_strike\n",
      "13         SL            called_strike\n",
      "14         SL          swinging_strike\n",
      "15         SL                     foul\n",
      "17         SL                     foul\n",
      "18         FF             blocked_ball\n",
      "19         SL             blocked_ball\n",
      "21         SL                     foul\n",
      "22         CU            called_strike\n",
      "24         CU  swinging_strike_blocked\n",
      "25         FF            called_strike\n",
      "27         FF            called_strike\n",
      "29         FF            called_strike\n",
      "31         SL                 foul_tip\n",
      "32         SL          swinging_strike\n",
      "33         SL          swinging_strike\n",
      "34         CU          swinging_strike\n",
      "35         FF            called_strike\n",
      "36         FF                 foul_tip\n",
      "37         CU            called_strike\n",
      "38         FF          swinging_strike\n",
      "39         SL  swinging_strike_blocked\n",
      "40         SL  swinging_strike_blocked\n",
      "42         CU             blocked_ball\n",
      "43         SL          swinging_strike\n",
      "44         FF            called_strike\n",
      "45         CU          swinging_strike\n",
      "46         SL                     foul\n",
      "48         FF                     foul\n",
      "49         SL             blocked_ball\n",
      "53         SL  swinging_strike_blocked\n",
      "54         CU                     foul\n",
      "56         CU                     foul\n",
      "58         CU             blocked_ball\n",
      "59         CU            called_strike\n",
      "60         SL                     foul\n",
      "65         CH            called_strike\n",
      "66         FF                     foul\n",
      "68         FF                     foul\n",
      "69         CU            called_strike\n",
      "70         FF                     foul\n",
      "72         FF            called_strike\n",
      "74         FF                     foul\n",
      "75         FF            called_strike\n",
      "77         FF            called_strike\n",
      "81         SL          swinging_strike\n",
      "82         CU                     foul\n",
      "83         FF                     foul\n",
      "84         CU          swinging_strike\n",
      "86         CU            called_strike\n",
      "87         FF                     foul\n",
      "88         SL          swinging_strike\n",
      "90         SL          swinging_strike\n",
      "91         FF                     foul,    pitch_type    description\n",
      "6          CU  hit_into_play\n",
      "12         FF  hit_into_play\n",
      "23         FF  hit_into_play\n",
      "28         FF  hit_into_play\n",
      "52         FF  hit_into_play\n",
      "55         SL  hit_into_play\n",
      "61         FF  hit_into_play\n",
      "64         FF  hit_into_play\n",
      "67         FF  hit_into_play\n",
      "73         SL  hit_into_play\n",
      "76         CU  hit_into_play\n",
      "78         FF  hit_into_play)\n"
     ]
    }
   ],
   "source": [
    "main('clayton','kershaw','2017-06-29','2017-06-29', 'LAD')"
   ]
  }
 ],
 "metadata": {
  "kernelspec": {
   "display_name": "Python 3 (ipykernel)",
   "language": "python",
   "name": "python3"
  },
  "language_info": {
   "codemirror_mode": {
    "name": "ipython",
    "version": 3
   },
   "file_extension": ".py",
   "mimetype": "text/x-python",
   "name": "python",
   "nbconvert_exporter": "python",
   "pygments_lexer": "ipython3",
   "version": "3.9.7"
  }
 },
 "nbformat": 4,
 "nbformat_minor": 5
}
