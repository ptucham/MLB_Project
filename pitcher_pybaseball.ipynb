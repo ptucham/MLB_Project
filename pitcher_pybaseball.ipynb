{
 "cells": [
  {
   "cell_type": "markdown",
   "id": "3967a18f",
   "metadata": {},
   "source": [
    "pybaseball github with install instructions: https://github.com/jldbc/pybaseball <br>\n",
    "Documentation for pybaseball library: https://github.com/jldbc/pybaseball/tree/master/docs <br>\n",
    "Statcast header meanings: https://baseballsavant.mlb.com/csv-docs"
   ]
  },
  {
   "cell_type": "markdown",
   "id": "8a61e5c6",
   "metadata": {},
   "source": [
    "plate_x\n",
    "Horizontal position of the ball when it crosses home plate from the catcher's perspective.\n",
    "\n",
    "plate_z\n",
    "Vertical position of the ball when it crosses home plate from the catcher's perspective."
   ]
  },
  {
   "cell_type": "code",
   "execution_count": 1,
   "id": "de42fc79",
   "metadata": {},
   "outputs": [],
   "source": [
    "import pybaseball\n",
    "import pandas as pd\n",
    "import numpy as np\n",
    "import matplotlib.pyplot as plt\n",
    "from collections import Counter"
   ]
  },
  {
   "cell_type": "code",
   "execution_count": 2,
   "id": "18dbe50a",
   "metadata": {},
   "outputs": [],
   "source": [
    "def pitcher(last_name, first_name):\n",
    "    pitcher = pybaseball.playerid_lookup(last_name, first_name)\n",
    "    return pitcher"
   ]
  },
  {
   "cell_type": "code",
   "execution_count": 3,
   "id": "035247f5",
   "metadata": {},
   "outputs": [],
   "source": [
    "def games_pitched_in_timeframe(first_name, last_name, start_date, end_date):\n",
    "    l_name = last_name\n",
    "    f_name = first_name\n",
    "    pitcher_data = pitcher(l_name, f_name)\n",
    "    pitcher_id = str(pitcher_data['key_mlbam'][0])\n",
    "    pitching_data = pybaseball.statcast_pitcher(start_date, end_date, pitcher_id)\n",
    "    dates = list(Counter(pitching_data['game_date']))\n",
    "    clean_period = []\n",
    "    for x in dates:\n",
    "        date_split = x.split('-')\n",
    "        day = date_split[2]\n",
    "        if day[0] == '0':\n",
    "            day = day[1]\n",
    "            date_split[2] = day\n",
    "        date_clean = '-'.join(date_split)\n",
    "        clean_period.append('-'.join(date_split))\n",
    "    return clean_period"
   ]
  },
  {
   "cell_type": "code",
   "execution_count": 4,
   "id": "82c80615",
   "metadata": {},
   "outputs": [],
   "source": [
    "def pitcher_game_number(dates, team):\n",
    "    months = {'Jan' : '01', 'Feb' : '02', 'Mar' : '03', 'Apr' : '04', 'May' : '05', 'Jun' : '06',\n",
    "          'Jul' : '07', 'Aug': '08', 'Sep' : '09', 'Oct' : '10', 'Nov' : '11', 'Dec' : '12'}\n",
    "    \n",
    "    game_dates = []\n",
    "    for x in dates:   \n",
    "        game_date = x.split('-')\n",
    "        year = game_date[0]\n",
    "        game_date = game_date[1:]\n",
    "        game_dates.append('-'.join(game_date))        \n",
    "    \n",
    "    pitching_logs = pybaseball.team_game_logs(year, team, \"pitching\")\n",
    "    test = list(pitching_logs['Date'])\n",
    "    test = [i.split() for i in test]\n",
    "    x = 0\n",
    "    for ind in test:\n",
    "        ind[0] = months.get(ind[0])\n",
    "        new_string = '-'.join(ind)\n",
    "        test[x] = new_string\n",
    "        x+=1\n",
    "    pitching_logs['Date'] = test\n",
    "    \n",
    "    game_ids = []\n",
    "    data = pybaseball.statcast(dates[0], dates[-1])\n",
    "    for x in range(len(dates)):\n",
    "        game = pitching_logs.loc[pitching_logs['Date'] == game_dates[x]].reset_index()\n",
    "        game_data = data.loc[data['game_date'] == dates[x]]\n",
    "        if len(game) > 0:\n",
    "            if game['Home'][0] == True:\n",
    "                pitcher_game_data = game_data.loc[game_data['away_team'] == team]\n",
    "                game_pk = list(pitcher_game_data['game_pk'])\n",
    "                game_ids.append(game_pk[0])\n",
    "            else:\n",
    "                pitcher_game_data = game_data.loc[game_data['home_team'] == team]\n",
    "                game_pk = list(pitcher_game_data['game_pk'])\n",
    "                game_ids.append(game_pk[0])\n",
    "    print(game_ids)\n",
    "    print(dates)\n",
    "    return game_ids"
   ]
  },
  {
   "cell_type": "code",
   "execution_count": 5,
   "id": "94bdca0f",
   "metadata": {},
   "outputs": [],
   "source": [
    "# Single game stats\n",
    "def pitcher_game_complete_data(game_id, pitcher_id):\n",
    "    data = pybaseball.statcast_single_game(game_id).reset_index(drop = True)\n",
    "    pitcher_data = pd.DataFrame()\n",
    "    for x in range(len(data)):\n",
    "        if data['pitcher'][x] == pitcher_id:\n",
    "            pitcher_data = pitcher_data.append(data.iloc[[x]])\n",
    "    pitcher_data = pitcher_data.reset_index(drop = True)\n",
    "    return pitcher_data"
   ]
  },
  {
   "cell_type": "code",
   "execution_count": 6,
   "id": "5263b9a2",
   "metadata": {},
   "outputs": [],
   "source": [
    "# Breakdown of the pitches throw in the time period\n",
    "def pitch_summary(game_data):\n",
    "    data = Counter(game_data['pitch_type'])\n",
    "    return data"
   ]
  },
  {
   "cell_type": "code",
   "execution_count": 7,
   "id": "ca42e3ef",
   "metadata": {},
   "outputs": [],
   "source": [
    "def player(first_name, last_name, start_date, end_date):\n",
    "    player_info = pybaseball.playerid_lookup(last_name, first_name)\n",
    "    if (player_info['mlb_played_last'][0] - player_info['mlb_played_first'][0]) < 10:\n",
    "        start_year = int(player_info['mlb_played_first'][0])\n",
    "    else:\n",
    "        start_year = int(player_info['mlb_played_last'][0] - 10)\n",
    "        \n",
    "    player_id = player_info['key_mlbam'][0]\n",
    "    player_info = [player_id,start_year,str(player_info['mlb_played_last'][0])]\n",
    "    \n",
    "    data = pybaseball.statcast_pitcher(start_dt = start_date, end_dt = end_date, player_id = player_info[0])\n",
    "    data = data.reset_index(drop = True)\n",
    "    return data"
   ]
  },
  {
   "cell_type": "code",
   "execution_count": 8,
   "id": "b975e088",
   "metadata": {},
   "outputs": [],
   "source": [
    "# Seperate the balls, stikes, and live balls in play\n",
    "def ball_and_strike(game_data):\n",
    "    balls = pd.DataFrame(columns = ['pitch_type', 'description'])\n",
    "    strikes = pd.DataFrame(columns = ['pitch_type', 'description'])\n",
    "    live = pd.DataFrame(columns = ['pitch_type', 'description'])\n",
    "    k = 0\n",
    "    for x in range(len(game_data)):\n",
    "        if game_data['description'][x] == 'ball':\n",
    "            details = game_data[['pitch_type','description', 'plate_x', 'plate_z']].iloc[[x]]\n",
    "            balls = balls.append(details)\n",
    "        elif game_data['description'][x] == 'hit_into_play':\n",
    "            details = game_data[['pitch_type','description', 'plate_x', 'plate_z']].iloc[[x]]\n",
    "            live = live.append(details)\n",
    "        else:\n",
    "            details = game_data[['pitch_type','description', 'plate_x', 'plate_z']].iloc[[x]]\n",
    "            strikes = strikes.append(details)\n",
    "    return balls, strikes, live"
   ]
  },
  {
   "cell_type": "code",
   "execution_count": 9,
   "id": "c97a4bab",
   "metadata": {
    "scrolled": true
   },
   "outputs": [],
   "source": [
    "# Display the pitching data for the time period in a scatter plot color coded by strike, ball or live ball in play\n",
    "def pitch_graph(pitching_breakdowns, start_date, end_date):\n",
    "    pitch_ball = pitching_breakdowns[0]\n",
    "    balls_xs = [x for x in pitch_ball['plate_x'].reset_index(drop = True)]\n",
    "    balls_zs = [x for x in pitch_ball['plate_z'].reset_index(drop = True)]\n",
    "    balls_colors = ['blue' for x in range(len(balls_xs))]\n",
    "\n",
    "    pitch_strike = pitching_breakdowns[1]\n",
    "    strikes_xs = [x for x in pitch_strike['plate_x'].reset_index(drop = True)]\n",
    "    strikes_zs = [x for x in pitch_strike['plate_z'].reset_index(drop = True)]\n",
    "    strikes_colors = ['red' for x in range(len(strikes_xs))]\n",
    "\n",
    "    pitch_hit = pitching_breakdowns[2]\n",
    "    hit_xs = [x for x in pitch_hit['plate_x'].reset_index(drop = True)]\n",
    "    hit_zs = [x for x in pitch_hit['plate_z'].reset_index(drop = True)]\n",
    "    hit_colors = ['green' for x in range(len(hit_xs))]\n",
    "\n",
    "\n",
    "    xs = strikes_xs + balls_xs + hit_xs\n",
    "    zs = strikes_zs + balls_zs + hit_zs\n",
    "    colors = strikes_colors + balls_colors + hit_colors\n",
    "    \n",
    "    plt.title('All Pitches Thrown between ' + start_date + ' and ' + end_date)\n",
    "    plt.scatter(xs,zs,color = colors)\n",
    "    plt.show()"
   ]
  },
  {
   "cell_type": "code",
   "execution_count": 12,
   "id": "15ce90dd",
   "metadata": {},
   "outputs": [],
   "source": [
    "def main(first_name, last_name, start_date, end_date, team):\n",
    "#     desired_pitcher = pitcher(last_name, first_name)\n",
    "#     desired_pitcher_id = desired_pitcher['key_mlbam'][0]\n",
    "    \n",
    "#     games = games_pitched_in_timeframe(first_name, last_name, start_date, end_date)\n",
    "    \n",
    "#     game_id = pitcher_game_number(games, team)\n",
    "    \n",
    "#     game_pitch_data = pd.DataFrame()\n",
    "#     for x in game_id:\n",
    "#         game_pitch_data = game_pitch_data.append(pitcher_game_complete_data(x, desired_pitcher_id))\n",
    "#     game_pitch_data = game_pitch_data.iloc[::-1].reset_index(drop = True)\n",
    "    \n",
    "#     pitching_dates = games_pitched_in_timeframe(first_name, last_name, start_date, end_date)\n",
    "#     pitch_breakdown_in_timeframe = pitch_summary(game_pitch_data)\n",
    "    \n",
    "#     #     summary stats at the top\n",
    "#     print(first_name, last_name)\n",
    "#     print(start_date + ' through ' + end_date)\n",
    "#     print('Total Games Pitched: ' + str(len(pitching_dates)))\n",
    "#     print('Dates Player Pitched: ' + str(pitching_dates))\n",
    "#     print('Pitch Brekdown for Time Period: ' + str(pitch_breakdown_in_timeframe))\n",
    "    player_data = player(first_name,last_name,start_date,end_date)\n",
    "    pitch_breakdowns = ball_and_strike(player_data)\n",
    "    pitch_graph(pitch_breakdowns, start_date, end_date)"
   ]
  },
  {
   "cell_type": "code",
   "execution_count": 13,
   "id": "eeb1b619",
   "metadata": {
    "scrolled": true
   },
   "outputs": [
    {
     "name": "stdout",
     "output_type": "stream",
     "text": [
      "Gathering Player Data\n"
     ]
    },
    {
     "data": {
      "image/png": "[encoded data removed]",
      "text/plain": [
       "<Figure size 432x288 with 1 Axes>"
      ]
     },
     "metadata": {
      "needs_background": "light"
     },
     "output_type": "display_data"
    }
   ],
   "source": [
    "main('masahiro','tanaka','2017-07-1','2017-07-31', 'NYY')"
   ]
  }
 ],
 "metadata": {
  "kernelspec": {
   "display_name": "Python 3 (ipykernel)",
   "language": "python",
   "name": "python3"
  },
  "language_info": {
   "codemirror_mode": {
    "name": "ipython",
    "version": 3
   },
   "file_extension": ".py",
   "mimetype": "text/x-python",
   "name": "python",
   "nbconvert_exporter": "python",
   "pygments_lexer": "ipython3",
   "version": "3.9.7"
  }
 },
 "nbformat": 4,
 "nbformat_minor": 5
}
