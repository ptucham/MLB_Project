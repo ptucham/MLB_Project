{
 "cells": [
  {
   "cell_type": "markdown",
   "id": "3967a18f",
   "metadata": {},
   "source": [
    "pybaseball github with install instructions: https://github.com/jldbc/pybaseball <br>\n",
    "Documentation for pybaseball library: https://github.com/jldbc/pybaseball/tree/master/docs <br>\n",
    "Statcast header meanings: https://baseballsavant.mlb.com/csv-docs"
   ]
  },
  {
   "cell_type": "markdown",
   "id": "8a61e5c6",
   "metadata": {},
   "source": [
    "plate_x\n",
    "Horizontal position of the ball when it crosses home plate from the catcher's perspective.\n",
    "\n",
    "plate_z\n",
    "Vertical position of the ball when it crosses home plate from the catcher's perspective."
   ]
  },
  {
   "cell_type": "code",
   "execution_count": 1,
   "id": "de42fc79",
   "metadata": {},
   "outputs": [],
   "source": [
    "import pybaseball\n",
    "import pandas as pd\n",
    "import numpy as np\n",
    "import matplotlib.pyplot as plt\n",
    "from collections import Counter"
   ]
  },
  {
   "cell_type": "code",
   "execution_count": 2,
   "id": "18dbe50a",
   "metadata": {},
   "outputs": [],
   "source": [
    "def pitcher(last_name, first_name):\n",
    "    pitcher = pybaseball.playerid_lookup(last_name, first_name)\n",
    "    return pitcher"
   ]
  },
  {
   "cell_type": "code",
   "execution_count": 3,
   "id": "035247f5",
   "metadata": {},
   "outputs": [],
   "source": [
    "def games_pitched_in_timeframe(first_name, last_name, start_date, end_date):\n",
    "    l_name = last_name\n",
    "    f_name = first_name\n",
    "    pitcher_data = pitcher(l_name, f_name)\n",
    "    pitcher_id = str(pitcher_data['key_mlbam'][0])\n",
    "    pitching_data = pybaseball.statcast_pitcher(start_date, end_date, pitcher_id)\n",
    "    dates = list(Counter(pitching_data['game_date']))\n",
    "    clean_period = []\n",
    "    for x in dates:\n",
    "        date_split = x.split('-')\n",
    "        day = date_split[2]\n",
    "        if day[0] == '0':\n",
    "            day = day[1]\n",
    "            date_split[2] = day\n",
    "        date_clean = '-'.join(date_split)\n",
    "        clean_period.append('-'.join(date_split))\n",
    "    return clean_period"
   ]
  },
  {
   "cell_type": "code",
   "execution_count": 4,
   "id": "9fd2b6b2",
   "metadata": {
    "scrolled": true
   },
   "outputs": [],
   "source": [
    "def pitcher_game_number(date, team):\n",
    "    months = {'Jan' : '01', 'Feb' : '02', 'Mar' : '03', 'Apr' : '04', 'May' : '05', 'Jun' : '06',\n",
    "          'Jul' : '07', 'Aug': '08', 'Sep' : '09', 'Oct' : '10', 'Nov' : '11', 'Dec' : '12'}\n",
    "    \n",
    "    game_date = date.split('-')\n",
    "    year = game_date[0]\n",
    "    game_date = game_date[1:]\n",
    "    game_date = '-'.join(game_date)\n",
    "    \n",
    "    pitching_logs = pybaseball.team_game_logs(year, team, \"pitching\")\n",
    "    test = list(pitching_logs['Date'])\n",
    "    test = [i.split() for i in test]\n",
    "    x = 0\n",
    "    for ind in test:\n",
    "        ind[0] = months.get(ind[0])\n",
    "        new_string = '-'.join(ind)\n",
    "        test[x] = new_string\n",
    "        x+=1\n",
    "    pitching_logs['Date'] = test\n",
    "    game = pitching_logs.loc[pitching_logs['Date'] == game_date].reset_index()\n",
    "    data = pybaseball.statcast(date, date)\n",
    "    if game['Home'][0] == True:\n",
    "        test = data.loc[data['away_team'] == 'LAD']\n",
    "        game_pk = list(test['game_pk'])\n",
    "        return game_pk[0]\n",
    "    else:\n",
    "        test = data.loc[data['home_team'] == 'LAD']\n",
    "        game_pk = list(test['game_pk'])\n",
    "        return game_pk[0]"
   ]
  },
  {
   "cell_type": "code",
   "execution_count": 5,
   "id": "94bdca0f",
   "metadata": {},
   "outputs": [],
   "source": [
    "# Single game stats\n",
    "def pitcher_game_complete_data(game_id, pitcher_id):\n",
    "    data = pybaseball.statcast_single_game(game_id).reset_index(drop = True)\n",
    "    pitcher_data = pd.DataFrame()\n",
    "    for x in range(len(data)):\n",
    "        if data['pitcher'][x] == pitcher_id:\n",
    "            pitcher_data = pitcher_data.append(data.iloc[[x]])\n",
    "    pitcher_data = pitcher_data.reset_index(drop = True)\n",
    "    return pitcher_data"
   ]
  },
  {
   "cell_type": "code",
   "execution_count": 6,
   "id": "5263b9a2",
   "metadata": {},
   "outputs": [],
   "source": [
    "# Breakdown of the pitches throw in the time period\n",
    "def pitch_summary(game_data):\n",
    "    data = Counter(game_data['pitch_type'])\n",
    "    return data"
   ]
  },
  {
   "cell_type": "code",
   "execution_count": 7,
   "id": "b975e088",
   "metadata": {},
   "outputs": [],
   "source": [
    "# Seperate the balls, stikes, and live balls in play\n",
    "def ball_and_strike(game_data):\n",
    "    balls = pd.DataFrame(columns = ['pitch_type', 'description'])\n",
    "    strikes = pd.DataFrame(columns = ['pitch_type', 'description'])\n",
    "    live = pd.DataFrame(columns = ['pitch_type', 'description'])\n",
    "    k = 0\n",
    "    for x in range(len(game_data)):\n",
    "        if game_data['description'][x] == 'ball':\n",
    "            details = game_data[['pitch_type','description', 'plate_x', 'plate_z']].iloc[[x]]\n",
    "            balls = balls.append(details)\n",
    "        elif game_data['description'][x] == 'hit_into_play':\n",
    "            details = game_data[['pitch_type','description', 'plate_x', 'plate_z']].iloc[[x]]\n",
    "            live = live.append(details)\n",
    "        else:\n",
    "            details = game_data[['pitch_type','description', 'plate_x', 'plate_z']].iloc[[x]]\n",
    "            strikes = strikes.append(details)\n",
    "    return balls, strikes, live"
   ]
  },
  {
   "cell_type": "code",
   "execution_count": 8,
   "id": "c97a4bab",
   "metadata": {
    "scrolled": true
   },
   "outputs": [],
   "source": [
    "# Display the pitching data for the time period in a scatter plot color coded by strike, ball or live ball in play\n",
    "def pitch_graph(pitching_breakdowns, start_date, end_date):\n",
    "    pitch_ball = pitching_breakdowns[0]\n",
    "    balls_xs = [x for x in pitch_ball['plate_x'].reset_index(drop = True)]\n",
    "    balls_zs = [x for x in pitch_ball['plate_z'].reset_index(drop = True)]\n",
    "    balls_colors = ['blue' for x in range(len(balls_xs))]\n",
    "\n",
    "    pitch_strike = pitching_breakdowns[1]\n",
    "    strikes_xs = [x for x in pitch_strike['plate_x'].reset_index(drop = True)]\n",
    "    strikes_zs = [x for x in pitch_strike['plate_z'].reset_index(drop = True)]\n",
    "    strikes_colors = ['red' for x in range(len(strikes_xs))]\n",
    "\n",
    "    pitch_hit = pitching_breakdowns[2]\n",
    "    hit_xs = [x for x in pitch_hit['plate_x'].reset_index(drop = True)]\n",
    "    hit_zs = [x for x in pitch_hit['plate_z'].reset_index(drop = True)]\n",
    "    hit_colors = ['green' for x in range(len(hit_xs))]\n",
    "\n",
    "\n",
    "    xs = strikes_xs + balls_xs + hit_xs\n",
    "    zs = strikes_zs + balls_zs + hit_zs\n",
    "    colors = strikes_colors + balls_colors + hit_colors\n",
    "    \n",
    "    plt.title('All Pitches Thrown between ' + start_date + ' and ' + end_date)\n",
    "    plt.scatter(xs,zs,color = colors)\n",
    "    plt.show()"
   ]
  },
  {
   "cell_type": "code",
   "execution_count": 9,
   "id": "15ce90dd",
   "metadata": {},
   "outputs": [],
   "source": [
    "def main(first_name, last_name, start_date, end_date, team):\n",
    "    desired_pitcher = pitcher(last_name, first_name)\n",
    "    desired_pitcher_id = desired_pitcher['key_mlbam'][0]\n",
    "    \n",
    "    games = games_pitched_in_timeframe(first_name, last_name, start_date, end_date)\n",
    "\n",
    "    game_id = []\n",
    "    for x in range(len(games)):\n",
    "        game_id.append(pitcher_game_number(games[x], team))\n",
    "    \n",
    "    game_pitch_data = pd.DataFrame()\n",
    "    for x in game_id:\n",
    "        game_pitch_data = game_pitch_data.append(pitcher_game_complete_data(x, desired_pitcher_id))\n",
    "    game_pitch_data = game_pitch_data.iloc[::-1].reset_index(drop = True)\n",
    "    \n",
    "    pitching_dates = games_pitched_in_timeframe(first_name, last_name, start_date, end_date)\n",
    "    pitch_breakdown_in_timeframe = pitch_summary(game_pitch_data)\n",
    "    \n",
    "    #     summary stats at the top\n",
    "    print(first_name, last_name)\n",
    "    print(start_date + ' through ' + end_date)\n",
    "    print('Total Games Pitched: ' + str(len(pitching_dates)))\n",
    "    print('Dates Player Pitched: ' + str(pitching_dates))\n",
    "    print('Pitch Brekdown for Time Period: ' + str(pitch_breakdown_in_timeframe))\n",
    "    \n",
    "    pitch_breakdowns = ball_and_strike(game_pitch_data)\n",
    "    pitch_graph(pitch_breakdowns, start_date, end_date)"
   ]
  },
  {
   "cell_type": "code",
   "execution_count": 10,
   "id": "eeb1b619",
   "metadata": {
    "scrolled": false
   },
   "outputs": [
    {
     "name": "stdout",
     "output_type": "stream",
     "text": [
      "Gathering player lookup table. This may take a moment.\n",
      "Gathering Player Data\n",
      "This is a large query, it may take a moment to complete\n"
     ]
    },
    {
     "name": "stderr",
     "output_type": "stream",
     "text": [
      "100%|████████████████████████████████████████████████████████████████████████████████████| 1/1 [00:02<00:00,  2.10s/it]\n"
     ]
    },
    {
     "name": "stdout",
     "output_type": "stream",
     "text": [
      "This is a large query, it may take a moment to complete\n"
     ]
    },
    {
     "name": "stderr",
     "output_type": "stream",
     "text": [
      "100%|████████████████████████████████████████████████████████████████████████████████████| 1/1 [00:02<00:00,  2.05s/it]\n"
     ]
    },
    {
     "name": "stdout",
     "output_type": "stream",
     "text": [
      "This is a large query, it may take a moment to complete\n"
     ]
    },
    {
     "name": "stderr",
     "output_type": "stream",
     "text": [
      "100%|████████████████████████████████████████████████████████████████████████████████████| 1/1 [00:02<00:00,  2.11s/it]\n"
     ]
    },
    {
     "name": "stdout",
     "output_type": "stream",
     "text": [
      "This is a large query, it may take a moment to complete\n"
     ]
    },
    {
     "name": "stderr",
     "output_type": "stream",
     "text": [
      "100%|████████████████████████████████████████████████████████████████████████████████████| 1/1 [00:02<00:00,  2.12s/it]\n"
     ]
    },
    {
     "name": "stdout",
     "output_type": "stream",
     "text": [
      "Gathering Player Data\n",
      "clayton kershaw\n",
      "2017-07-1 through 2017-07-31\n",
      "Total Games Pitched: 4\n",
      "Dates Player Pitched: ['2017-07-23', '2017-07-18', '2017-07-9', '2017-07-4']\n",
      "Pitch Brekdown for Time Period: Counter({'FF': 141, 'SL': 138, 'CU': 59, 'CH': 2})\n"
     ]
    },
    {
     "data": {
      "image/png": "[encoded data removed]",
      "text/plain": [
       "<Figure size 432x288 with 1 Axes>"
      ]
     },
     "metadata": {
      "needs_background": "light"
     },
     "output_type": "display_data"
    }
   ],
   "source": [
    "main('clayton','kershaw','2017-07-1','2017-07-31', 'LAD')"
   ]
  }
 ],
 "metadata": {
  "kernelspec": {
   "display_name": "Python 3 (ipykernel)",
   "language": "python",
   "name": "python3"
  },
  "language_info": {
   "codemirror_mode": {
    "name": "ipython",
    "version": 3
   },
   "file_extension": ".py",
   "mimetype": "text/x-python",
   "name": "python",
   "nbconvert_exporter": "python",
   "pygments_lexer": "ipython3",
   "version": "3.9.7"
  }
 },
 "nbformat": 4,
 "nbformat_minor": 5
}
