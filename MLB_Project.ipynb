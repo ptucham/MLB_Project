{
 "cells": [
  {
   "cell_type": "code",
   "execution_count": 52,
   "metadata": {},
   "outputs": [],
   "source": [
    "import pandas as pd\n",
    "import numpy as np\n",
    "import matplotlib.pyplot as plt\n",
    "from matplotlib.patches import Rectangle\n",
    "from collections import Counter"
   ]
  },
  {
   "cell_type": "code",
   "execution_count": 2,
   "metadata": {},
   "outputs": [],
   "source": [
    "games19 = pd.read_csv(\"mlb_data/2019_games.csv\")\n",
    "atbats19 = pd.read_csv(\"mlb_data/2019_atbats.csv\")\n",
    "pitches19 = pd.read_csv(\"mlb_data/2019_pitches.csv\")\n",
    "players = pd.read_csv(\"mlb_data/player_names.csv\")"
   ]
  },
  {
   "cell_type": "code",
   "execution_count": 3,
   "metadata": {},
   "outputs": [],
   "source": [
    "pitcher = pd.DataFrame()\n",
    "for x in range(len(players)):\n",
    "    if (players['last_name'][x] == 'deGrom') == True:\n",
    "        pitcher = pitcher.append(pd.DataFrame(players.loc[[x]]))\n",
    "pitcher = pitcher.reset_index(drop = True)"
   ]
  },
  {
   "cell_type": "code",
   "execution_count": 4,
   "metadata": {},
   "outputs": [],
   "source": [
    "pitcher_at_bats = pd.DataFrame()\n",
    "for x in range(len(atbats19)):\n",
    "    if(atbats19['pitcher_id'][x] == pitcher['id'][0]) == True:\n",
    "        pitcher_at_bats = pitcher_at_bats.append(pd.DataFrame(atbats19.loc[[x]]))\n",
    "pitcher_at_bats = pitcher_at_bats.reset_index(drop = True)"
   ]
  },
  {
   "cell_type": "code",
   "execution_count": 5,
   "metadata": {},
   "outputs": [],
   "source": [
    "pitcher_game_summary = pd.DataFrame()\n",
    "for k in range(len(pitcher_at_bats)):\n",
    "    for x in range(len(games19)):\n",
    "        if ( pitcher_at_bats['g_id'][k] == games19['g_id'][x]) == True:\n",
    "            pitcher_game_summary = pitcher_game_summary.append(pd.DataFrame(games19.loc[[x]]))\n",
    "pitcher_game_summary = pitcher_game_summary.drop_duplicates(subset=['g_id'])\n",
    "pitcher_game_summary = pitcher_game_summary.reset_index(drop = True)"
   ]
  },
  {
   "cell_type": "code",
   "execution_count": 6,
   "metadata": {},
   "outputs": [],
   "source": [
    "# len(cy_young_nl_game_summary)"
   ]
  },
  {
   "cell_type": "code",
   "execution_count": 7,
   "metadata": {},
   "outputs": [],
   "source": [
    "pitcher_first_game = pd.DataFrame()\n",
    "for x in range(len(pitcher_at_bats)):\n",
    "    if (pitcher_at_bats['g_id'][x] == pitcher_game_summary['g_id'][0]) == True:\n",
    "        pitcher_first_game = pitcher_first_game.append(pd.DataFrame(pitcher_at_bats.loc[[x]]))\n",
    "pitcher_first_game = pitcher_first_game.reset_index(drop = True)"
   ]
  },
  {
   "cell_type": "code",
   "execution_count": 8,
   "metadata": {},
   "outputs": [],
   "source": [
    "at_bat_stats = pd.DataFrame()\n",
    "for k in range(len(pitcher_first_game)):\n",
    "    for x in range(len(pitches19)):\n",
    "        if (pitcher_first_game['ab_id'][k] == pitches19['ab_id'][x]) == True:\n",
    "            at_bat_stats = at_bat_stats.append(pd.DataFrame(pitches19.loc[[x]]))\n",
    "at_bat_stats = at_bat_stats.reset_index(drop = True)"
   ]
  },
  {
   "cell_type": "code",
   "execution_count": 9,
   "metadata": {},
   "outputs": [],
   "source": [
    "total_pitches = Counter(at_bat_stats['pitch_type']).most_common()"
   ]
  },
  {
   "cell_type": "code",
   "execution_count": 10,
   "metadata": {
    "scrolled": true
   },
   "outputs": [],
   "source": [
    "# total_pitches[0][0]"
   ]
  },
  {
   "cell_type": "code",
   "execution_count": 11,
   "metadata": {},
   "outputs": [
    {
     "data": {
      "text/plain": [
       "[['FF'], ['SL'], ['CH'], ['FT'], ['CU']]"
      ]
     },
     "execution_count": 11,
     "metadata": {},
     "output_type": "execute_result"
    }
   ],
   "source": [
    "pitch_type = []*len(total_pitches)\n",
    "for x in range(len(total_pitches)):\n",
    "    pitch_type.append([total_pitches[x][0]])\n",
    "pitch_type"
   ]
  },
  {
   "cell_type": "code",
   "execution_count": 12,
   "metadata": {},
   "outputs": [],
   "source": [
    "# location = []\n",
    "# location.append([at_bat_stats['px'][1]])\n",
    "# location.append(at_bat_stats['pz'][1])\n",
    "# pitch_type[0].append(location)\n",
    "# location = []\n",
    "# location.append([at_bat_stats['px'][2]])\n",
    "# location.append(at_bat_stats['pz'][2])\n",
    "# pitch_type[0].append(location)\n",
    "# pitch_type"
   ]
  },
  {
   "cell_type": "code",
   "execution_count": 13,
   "metadata": {},
   "outputs": [],
   "source": [
    "for x in range(len(total_pitches)):\n",
    "    for k in range(len(at_bat_stats)):\n",
    "        location = []\n",
    "        if (at_bat_stats['pitch_type'][k] == total_pitches[x][0]) == True:\n",
    "            location.append(at_bat_stats['px'][k])\n",
    "            location.append(at_bat_stats['pz'][k])\n",
    "            pitch_type[x].append(location)\n",
    "# pitch_type   "
   ]
  },
  {
   "cell_type": "code",
   "execution_count": 67,
   "metadata": {},
   "outputs": [
    {
     "data": {
      "image/png": "[encoded data removed]",
      "text/plain": [
       "<Figure size 432x288 with 1 Axes>"
      ]
     },
     "metadata": {},
     "output_type": "display_data"
    },
    {
     "data": {
      "image/png": "[encoded data removed]",
      "text/plain": [
       "<Figure size 432x288 with 1 Axes>"
      ]
     },
     "metadata": {},
     "output_type": "display_data"
    },
    {
     "data": {
      "image/png": "[encoded data removed]",
      "text/plain": [
       "<Figure size 432x288 with 1 Axes>"
      ]
     },
     "metadata": {},
     "output_type": "display_data"
    },
    {
     "data": {
      "image/png": "[encoded data removed]",
      "text/plain": [
       "<Figure size 432x288 with 1 Axes>"
      ]
     },
     "metadata": {},
     "output_type": "display_data"
    },
    {
     "data": {
      "image/png": "[encoded data removed]",
      "text/plain": [
       "<Figure size 432x288 with 1 Axes>"
      ]
     },
     "metadata": {},
     "output_type": "display_data"
    }
   ],
   "source": [
    "colors = ['blue', 'red', 'green', 'orange', 'purple']\n",
    "for x in range(len(pitch_type)):\n",
    "    test = pitch_type[x][:]\n",
    "    test.pop([0][0])\n",
    "    xs = [test[x][0] for x in range(len(test))]\n",
    "    ys = [test[x][1] for x in range(len(test))]\n",
    "    plt.scatter(xs,ys, c = colors[x])\n",
    "    currentAxis = plt.gca()\n",
    "    currentAxis.add_patch(Rectangle((-0.8, 1.59), 1.6, 2.15, fill=None, alpha=1)) # Strike Zone\n",
    "    plt.xlim(-2, 2.5)\n",
    "    plt.ylim(0, 5)\n",
    "    plt.title(pitch_type[x][0])\n",
    "    plt.show()"
   ]
  },
  {
   "cell_type": "markdown",
   "metadata": {},
   "source": [
    "Strike Zone size is about 20in wide 26in tall. about 18.25in off the ground and the top is around 44in off the ground."
   ]
  },
  {
   "cell_type": "code",
   "execution_count": 14,
   "metadata": {},
   "outputs": [
    {
     "data": {
      "image/png": "[encoded data removed]",
      "text/plain": [
       "<Figure size 432x288 with 1 Axes>"
      ]
     },
     "metadata": {},
     "output_type": "display_data"
    }
   ],
   "source": [
    "def strikezone_map(player_atbats):\n",
    "    plt.scatter(player_atbats['px'],player_atbats['pz'])\n",
    "    currentAxis = plt.gca()\n",
    "    currentAxis.add_patch(Rectangle((-0.8, 1.59), 1.6, 2.15, fill=None, alpha=1)) # Strike Zone\n",
    "    # plt.xlim(-2, 2.5)\n",
    "    # plt.ylim(0, 5)\n",
    "    plt.title(\"Pitch Placement\")\n",
    "    plt.show()\n",
    "\n",
    "strikezone_map(at_bat_stats)"
   ]
  }
 ],
 "metadata": {
  "kernelspec": {
   "display_name": "Python 3",
   "language": "python",
   "name": "python3"
  },
  "language_info": {
   "codemirror_mode": {
    "name": "ipython",
    "version": 3
   },
   "file_extension": ".py",
   "mimetype": "text/x-python",
   "name": "python",
   "nbconvert_exporter": "python",
   "pygments_lexer": "ipython3",
   "version": "3.6.5"
  }
 },
 "nbformat": 4,
 "nbformat_minor": 2
}
